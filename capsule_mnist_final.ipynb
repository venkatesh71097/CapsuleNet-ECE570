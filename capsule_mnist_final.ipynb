{
  "nbformat": 4,
  "nbformat_minor": 0,
  "metadata": {
    "colab": {
      "name": "capsule_mnist_final.ipynb",
      "provenance": [],
      "collapsed_sections": []
    },
    "kernelspec": {
      "name": "python3",
      "display_name": "Python 3"
    },
    "accelerator": "GPU",
    "widgets": {
      "application/vnd.jupyter.widget-state+json": {
        "c099bc7ef95143fe936cd554fcec24a6": {
          "model_module": "@jupyter-widgets/controls",
          "model_name": "HBoxModel",
          "state": {
            "_view_name": "HBoxView",
            "_dom_classes": [],
            "_model_name": "HBoxModel",
            "_view_module": "@jupyter-widgets/controls",
            "_model_module_version": "1.5.0",
            "_view_count": null,
            "_view_module_version": "1.5.0",
            "box_style": "",
            "layout": "IPY_MODEL_1b715c25dbc844699fa2563a8cd8aa1c",
            "_model_module": "@jupyter-widgets/controls",
            "children": [
              "IPY_MODEL_fb471cddcf7640618396f419c7d2ab63",
              "IPY_MODEL_9ae8eae5dfae438891c2afad835247cd"
            ]
          }
        },
        "1b715c25dbc844699fa2563a8cd8aa1c": {
          "model_module": "@jupyter-widgets/base",
          "model_name": "LayoutModel",
          "state": {
            "_view_name": "LayoutView",
            "grid_template_rows": null,
            "right": null,
            "justify_content": null,
            "_view_module": "@jupyter-widgets/base",
            "overflow": null,
            "_model_module_version": "1.2.0",
            "_view_count": null,
            "flex_flow": null,
            "width": null,
            "min_width": null,
            "border": null,
            "align_items": null,
            "bottom": null,
            "_model_module": "@jupyter-widgets/base",
            "top": null,
            "grid_column": null,
            "overflow_y": null,
            "overflow_x": null,
            "grid_auto_flow": null,
            "grid_area": null,
            "grid_template_columns": null,
            "flex": null,
            "_model_name": "LayoutModel",
            "justify_items": null,
            "grid_row": null,
            "max_height": null,
            "align_content": null,
            "visibility": null,
            "align_self": null,
            "height": null,
            "min_height": null,
            "padding": null,
            "grid_auto_rows": null,
            "grid_gap": null,
            "max_width": null,
            "order": null,
            "_view_module_version": "1.2.0",
            "grid_template_areas": null,
            "object_position": null,
            "object_fit": null,
            "grid_auto_columns": null,
            "margin": null,
            "display": null,
            "left": null
          }
        },
        "fb471cddcf7640618396f419c7d2ab63": {
          "model_module": "@jupyter-widgets/controls",
          "model_name": "FloatProgressModel",
          "state": {
            "_view_name": "ProgressView",
            "style": "IPY_MODEL_d4c335b3749f42d88259ea44108f313b",
            "_dom_classes": [],
            "description": "",
            "_model_name": "FloatProgressModel",
            "bar_style": "info",
            "max": 1,
            "_view_module": "@jupyter-widgets/controls",
            "_model_module_version": "1.5.0",
            "value": 1,
            "_view_count": null,
            "_view_module_version": "1.5.0",
            "orientation": "horizontal",
            "min": 0,
            "description_tooltip": null,
            "_model_module": "@jupyter-widgets/controls",
            "layout": "IPY_MODEL_d8d28d29b83248a8a49881ad62c45a77"
          }
        },
        "9ae8eae5dfae438891c2afad835247cd": {
          "model_module": "@jupyter-widgets/controls",
          "model_name": "HTMLModel",
          "state": {
            "_view_name": "HTMLView",
            "style": "IPY_MODEL_2ceed7623602428ca0bb20b628848f97",
            "_dom_classes": [],
            "description": "",
            "_model_name": "HTMLModel",
            "placeholder": "​",
            "_view_module": "@jupyter-widgets/controls",
            "_model_module_version": "1.5.0",
            "value": " 9920512/? [00:20&lt;00:00, 3606500.83it/s]",
            "_view_count": null,
            "_view_module_version": "1.5.0",
            "description_tooltip": null,
            "_model_module": "@jupyter-widgets/controls",
            "layout": "IPY_MODEL_ca0a0b26e9e34bf3bb956c9d4d9212a0"
          }
        },
        "d4c335b3749f42d88259ea44108f313b": {
          "model_module": "@jupyter-widgets/controls",
          "model_name": "ProgressStyleModel",
          "state": {
            "_view_name": "StyleView",
            "_model_name": "ProgressStyleModel",
            "description_width": "initial",
            "_view_module": "@jupyter-widgets/base",
            "_model_module_version": "1.5.0",
            "_view_count": null,
            "_view_module_version": "1.2.0",
            "bar_color": null,
            "_model_module": "@jupyter-widgets/controls"
          }
        },
        "d8d28d29b83248a8a49881ad62c45a77": {
          "model_module": "@jupyter-widgets/base",
          "model_name": "LayoutModel",
          "state": {
            "_view_name": "LayoutView",
            "grid_template_rows": null,
            "right": null,
            "justify_content": null,
            "_view_module": "@jupyter-widgets/base",
            "overflow": null,
            "_model_module_version": "1.2.0",
            "_view_count": null,
            "flex_flow": null,
            "width": null,
            "min_width": null,
            "border": null,
            "align_items": null,
            "bottom": null,
            "_model_module": "@jupyter-widgets/base",
            "top": null,
            "grid_column": null,
            "overflow_y": null,
            "overflow_x": null,
            "grid_auto_flow": null,
            "grid_area": null,
            "grid_template_columns": null,
            "flex": null,
            "_model_name": "LayoutModel",
            "justify_items": null,
            "grid_row": null,
            "max_height": null,
            "align_content": null,
            "visibility": null,
            "align_self": null,
            "height": null,
            "min_height": null,
            "padding": null,
            "grid_auto_rows": null,
            "grid_gap": null,
            "max_width": null,
            "order": null,
            "_view_module_version": "1.2.0",
            "grid_template_areas": null,
            "object_position": null,
            "object_fit": null,
            "grid_auto_columns": null,
            "margin": null,
            "display": null,
            "left": null
          }
        },
        "2ceed7623602428ca0bb20b628848f97": {
          "model_module": "@jupyter-widgets/controls",
          "model_name": "DescriptionStyleModel",
          "state": {
            "_view_name": "StyleView",
            "_model_name": "DescriptionStyleModel",
            "description_width": "",
            "_view_module": "@jupyter-widgets/base",
            "_model_module_version": "1.5.0",
            "_view_count": null,
            "_view_module_version": "1.2.0",
            "_model_module": "@jupyter-widgets/controls"
          }
        },
        "ca0a0b26e9e34bf3bb956c9d4d9212a0": {
          "model_module": "@jupyter-widgets/base",
          "model_name": "LayoutModel",
          "state": {
            "_view_name": "LayoutView",
            "grid_template_rows": null,
            "right": null,
            "justify_content": null,
            "_view_module": "@jupyter-widgets/base",
            "overflow": null,
            "_model_module_version": "1.2.0",
            "_view_count": null,
            "flex_flow": null,
            "width": null,
            "min_width": null,
            "border": null,
            "align_items": null,
            "bottom": null,
            "_model_module": "@jupyter-widgets/base",
            "top": null,
            "grid_column": null,
            "overflow_y": null,
            "overflow_x": null,
            "grid_auto_flow": null,
            "grid_area": null,
            "grid_template_columns": null,
            "flex": null,
            "_model_name": "LayoutModel",
            "justify_items": null,
            "grid_row": null,
            "max_height": null,
            "align_content": null,
            "visibility": null,
            "align_self": null,
            "height": null,
            "min_height": null,
            "padding": null,
            "grid_auto_rows": null,
            "grid_gap": null,
            "max_width": null,
            "order": null,
            "_view_module_version": "1.2.0",
            "grid_template_areas": null,
            "object_position": null,
            "object_fit": null,
            "grid_auto_columns": null,
            "margin": null,
            "display": null,
            "left": null
          }
        },
        "8edb010e8f424145bddb25e076cef4a4": {
          "model_module": "@jupyter-widgets/controls",
          "model_name": "HBoxModel",
          "state": {
            "_view_name": "HBoxView",
            "_dom_classes": [],
            "_model_name": "HBoxModel",
            "_view_module": "@jupyter-widgets/controls",
            "_model_module_version": "1.5.0",
            "_view_count": null,
            "_view_module_version": "1.5.0",
            "box_style": "",
            "layout": "IPY_MODEL_05095b37e14b42c8b4c09d35536d5e82",
            "_model_module": "@jupyter-widgets/controls",
            "children": [
              "IPY_MODEL_d6ff7008d52945339a3a09cf79736464",
              "IPY_MODEL_1708860e42cb4df097924650dca0fb13"
            ]
          }
        },
        "05095b37e14b42c8b4c09d35536d5e82": {
          "model_module": "@jupyter-widgets/base",
          "model_name": "LayoutModel",
          "state": {
            "_view_name": "LayoutView",
            "grid_template_rows": null,
            "right": null,
            "justify_content": null,
            "_view_module": "@jupyter-widgets/base",
            "overflow": null,
            "_model_module_version": "1.2.0",
            "_view_count": null,
            "flex_flow": null,
            "width": null,
            "min_width": null,
            "border": null,
            "align_items": null,
            "bottom": null,
            "_model_module": "@jupyter-widgets/base",
            "top": null,
            "grid_column": null,
            "overflow_y": null,
            "overflow_x": null,
            "grid_auto_flow": null,
            "grid_area": null,
            "grid_template_columns": null,
            "flex": null,
            "_model_name": "LayoutModel",
            "justify_items": null,
            "grid_row": null,
            "max_height": null,
            "align_content": null,
            "visibility": null,
            "align_self": null,
            "height": null,
            "min_height": null,
            "padding": null,
            "grid_auto_rows": null,
            "grid_gap": null,
            "max_width": null,
            "order": null,
            "_view_module_version": "1.2.0",
            "grid_template_areas": null,
            "object_position": null,
            "object_fit": null,
            "grid_auto_columns": null,
            "margin": null,
            "display": null,
            "left": null
          }
        },
        "d6ff7008d52945339a3a09cf79736464": {
          "model_module": "@jupyter-widgets/controls",
          "model_name": "FloatProgressModel",
          "state": {
            "_view_name": "ProgressView",
            "style": "IPY_MODEL_16fc3ade8e494f3c8c78cb2585a12913",
            "_dom_classes": [],
            "description": "",
            "_model_name": "FloatProgressModel",
            "bar_style": "success",
            "max": 1,
            "_view_module": "@jupyter-widgets/controls",
            "_model_module_version": "1.5.0",
            "value": 1,
            "_view_count": null,
            "_view_module_version": "1.5.0",
            "orientation": "horizontal",
            "min": 0,
            "description_tooltip": null,
            "_model_module": "@jupyter-widgets/controls",
            "layout": "IPY_MODEL_b646c35667bb4b55b0b7dc9cfe087ac8"
          }
        },
        "1708860e42cb4df097924650dca0fb13": {
          "model_module": "@jupyter-widgets/controls",
          "model_name": "HTMLModel",
          "state": {
            "_view_name": "HTMLView",
            "style": "IPY_MODEL_ed70e4a922694bc6a9a2166a7a648ecd",
            "_dom_classes": [],
            "description": "",
            "_model_name": "HTMLModel",
            "placeholder": "​",
            "_view_module": "@jupyter-widgets/controls",
            "_model_module_version": "1.5.0",
            "value": " 32768/? [00:00&lt;00:00, 64287.02it/s]",
            "_view_count": null,
            "_view_module_version": "1.5.0",
            "description_tooltip": null,
            "_model_module": "@jupyter-widgets/controls",
            "layout": "IPY_MODEL_b1557da19ddf42968f105b04a15f670b"
          }
        },
        "16fc3ade8e494f3c8c78cb2585a12913": {
          "model_module": "@jupyter-widgets/controls",
          "model_name": "ProgressStyleModel",
          "state": {
            "_view_name": "StyleView",
            "_model_name": "ProgressStyleModel",
            "description_width": "initial",
            "_view_module": "@jupyter-widgets/base",
            "_model_module_version": "1.5.0",
            "_view_count": null,
            "_view_module_version": "1.2.0",
            "bar_color": null,
            "_model_module": "@jupyter-widgets/controls"
          }
        },
        "b646c35667bb4b55b0b7dc9cfe087ac8": {
          "model_module": "@jupyter-widgets/base",
          "model_name": "LayoutModel",
          "state": {
            "_view_name": "LayoutView",
            "grid_template_rows": null,
            "right": null,
            "justify_content": null,
            "_view_module": "@jupyter-widgets/base",
            "overflow": null,
            "_model_module_version": "1.2.0",
            "_view_count": null,
            "flex_flow": null,
            "width": null,
            "min_width": null,
            "border": null,
            "align_items": null,
            "bottom": null,
            "_model_module": "@jupyter-widgets/base",
            "top": null,
            "grid_column": null,
            "overflow_y": null,
            "overflow_x": null,
            "grid_auto_flow": null,
            "grid_area": null,
            "grid_template_columns": null,
            "flex": null,
            "_model_name": "LayoutModel",
            "justify_items": null,
            "grid_row": null,
            "max_height": null,
            "align_content": null,
            "visibility": null,
            "align_self": null,
            "height": null,
            "min_height": null,
            "padding": null,
            "grid_auto_rows": null,
            "grid_gap": null,
            "max_width": null,
            "order": null,
            "_view_module_version": "1.2.0",
            "grid_template_areas": null,
            "object_position": null,
            "object_fit": null,
            "grid_auto_columns": null,
            "margin": null,
            "display": null,
            "left": null
          }
        },
        "ed70e4a922694bc6a9a2166a7a648ecd": {
          "model_module": "@jupyter-widgets/controls",
          "model_name": "DescriptionStyleModel",
          "state": {
            "_view_name": "StyleView",
            "_model_name": "DescriptionStyleModel",
            "description_width": "",
            "_view_module": "@jupyter-widgets/base",
            "_model_module_version": "1.5.0",
            "_view_count": null,
            "_view_module_version": "1.2.0",
            "_model_module": "@jupyter-widgets/controls"
          }
        },
        "b1557da19ddf42968f105b04a15f670b": {
          "model_module": "@jupyter-widgets/base",
          "model_name": "LayoutModel",
          "state": {
            "_view_name": "LayoutView",
            "grid_template_rows": null,
            "right": null,
            "justify_content": null,
            "_view_module": "@jupyter-widgets/base",
            "overflow": null,
            "_model_module_version": "1.2.0",
            "_view_count": null,
            "flex_flow": null,
            "width": null,
            "min_width": null,
            "border": null,
            "align_items": null,
            "bottom": null,
            "_model_module": "@jupyter-widgets/base",
            "top": null,
            "grid_column": null,
            "overflow_y": null,
            "overflow_x": null,
            "grid_auto_flow": null,
            "grid_area": null,
            "grid_template_columns": null,
            "flex": null,
            "_model_name": "LayoutModel",
            "justify_items": null,
            "grid_row": null,
            "max_height": null,
            "align_content": null,
            "visibility": null,
            "align_self": null,
            "height": null,
            "min_height": null,
            "padding": null,
            "grid_auto_rows": null,
            "grid_gap": null,
            "max_width": null,
            "order": null,
            "_view_module_version": "1.2.0",
            "grid_template_areas": null,
            "object_position": null,
            "object_fit": null,
            "grid_auto_columns": null,
            "margin": null,
            "display": null,
            "left": null
          }
        },
        "deb5a76139ae4c9ba80775cbdce80a43": {
          "model_module": "@jupyter-widgets/controls",
          "model_name": "HBoxModel",
          "state": {
            "_view_name": "HBoxView",
            "_dom_classes": [],
            "_model_name": "HBoxModel",
            "_view_module": "@jupyter-widgets/controls",
            "_model_module_version": "1.5.0",
            "_view_count": null,
            "_view_module_version": "1.5.0",
            "box_style": "",
            "layout": "IPY_MODEL_e68713a241004937a868a962742987f4",
            "_model_module": "@jupyter-widgets/controls",
            "children": [
              "IPY_MODEL_1f6cb58ca4004f86befaa96baf9b576e",
              "IPY_MODEL_4793a641ff5643c4b56c3c101bcd2461"
            ]
          }
        },
        "e68713a241004937a868a962742987f4": {
          "model_module": "@jupyter-widgets/base",
          "model_name": "LayoutModel",
          "state": {
            "_view_name": "LayoutView",
            "grid_template_rows": null,
            "right": null,
            "justify_content": null,
            "_view_module": "@jupyter-widgets/base",
            "overflow": null,
            "_model_module_version": "1.2.0",
            "_view_count": null,
            "flex_flow": null,
            "width": null,
            "min_width": null,
            "border": null,
            "align_items": null,
            "bottom": null,
            "_model_module": "@jupyter-widgets/base",
            "top": null,
            "grid_column": null,
            "overflow_y": null,
            "overflow_x": null,
            "grid_auto_flow": null,
            "grid_area": null,
            "grid_template_columns": null,
            "flex": null,
            "_model_name": "LayoutModel",
            "justify_items": null,
            "grid_row": null,
            "max_height": null,
            "align_content": null,
            "visibility": null,
            "align_self": null,
            "height": null,
            "min_height": null,
            "padding": null,
            "grid_auto_rows": null,
            "grid_gap": null,
            "max_width": null,
            "order": null,
            "_view_module_version": "1.2.0",
            "grid_template_areas": null,
            "object_position": null,
            "object_fit": null,
            "grid_auto_columns": null,
            "margin": null,
            "display": null,
            "left": null
          }
        },
        "1f6cb58ca4004f86befaa96baf9b576e": {
          "model_module": "@jupyter-widgets/controls",
          "model_name": "FloatProgressModel",
          "state": {
            "_view_name": "ProgressView",
            "style": "IPY_MODEL_79f3cb63f40d4d9e9842ab39294bae6a",
            "_dom_classes": [],
            "description": "",
            "_model_name": "FloatProgressModel",
            "bar_style": "success",
            "max": 1,
            "_view_module": "@jupyter-widgets/controls",
            "_model_module_version": "1.5.0",
            "value": 1,
            "_view_count": null,
            "_view_module_version": "1.5.0",
            "orientation": "horizontal",
            "min": 0,
            "description_tooltip": null,
            "_model_module": "@jupyter-widgets/controls",
            "layout": "IPY_MODEL_15387eab6b4b49a68ff3aad1197fe01e"
          }
        },
        "4793a641ff5643c4b56c3c101bcd2461": {
          "model_module": "@jupyter-widgets/controls",
          "model_name": "HTMLModel",
          "state": {
            "_view_name": "HTMLView",
            "style": "IPY_MODEL_f67fd26df36d4d70a1925922cbbae304",
            "_dom_classes": [],
            "description": "",
            "_model_name": "HTMLModel",
            "placeholder": "​",
            "_view_module": "@jupyter-widgets/controls",
            "_model_module_version": "1.5.0",
            "value": " 1654784/? [00:00&lt;00:00, 4586890.52it/s]",
            "_view_count": null,
            "_view_module_version": "1.5.0",
            "description_tooltip": null,
            "_model_module": "@jupyter-widgets/controls",
            "layout": "IPY_MODEL_3272c18b702841c8baca83a86bd2df6a"
          }
        },
        "79f3cb63f40d4d9e9842ab39294bae6a": {
          "model_module": "@jupyter-widgets/controls",
          "model_name": "ProgressStyleModel",
          "state": {
            "_view_name": "StyleView",
            "_model_name": "ProgressStyleModel",
            "description_width": "initial",
            "_view_module": "@jupyter-widgets/base",
            "_model_module_version": "1.5.0",
            "_view_count": null,
            "_view_module_version": "1.2.0",
            "bar_color": null,
            "_model_module": "@jupyter-widgets/controls"
          }
        },
        "15387eab6b4b49a68ff3aad1197fe01e": {
          "model_module": "@jupyter-widgets/base",
          "model_name": "LayoutModel",
          "state": {
            "_view_name": "LayoutView",
            "grid_template_rows": null,
            "right": null,
            "justify_content": null,
            "_view_module": "@jupyter-widgets/base",
            "overflow": null,
            "_model_module_version": "1.2.0",
            "_view_count": null,
            "flex_flow": null,
            "width": null,
            "min_width": null,
            "border": null,
            "align_items": null,
            "bottom": null,
            "_model_module": "@jupyter-widgets/base",
            "top": null,
            "grid_column": null,
            "overflow_y": null,
            "overflow_x": null,
            "grid_auto_flow": null,
            "grid_area": null,
            "grid_template_columns": null,
            "flex": null,
            "_model_name": "LayoutModel",
            "justify_items": null,
            "grid_row": null,
            "max_height": null,
            "align_content": null,
            "visibility": null,
            "align_self": null,
            "height": null,
            "min_height": null,
            "padding": null,
            "grid_auto_rows": null,
            "grid_gap": null,
            "max_width": null,
            "order": null,
            "_view_module_version": "1.2.0",
            "grid_template_areas": null,
            "object_position": null,
            "object_fit": null,
            "grid_auto_columns": null,
            "margin": null,
            "display": null,
            "left": null
          }
        },
        "f67fd26df36d4d70a1925922cbbae304": {
          "model_module": "@jupyter-widgets/controls",
          "model_name": "DescriptionStyleModel",
          "state": {
            "_view_name": "StyleView",
            "_model_name": "DescriptionStyleModel",
            "description_width": "",
            "_view_module": "@jupyter-widgets/base",
            "_model_module_version": "1.5.0",
            "_view_count": null,
            "_view_module_version": "1.2.0",
            "_model_module": "@jupyter-widgets/controls"
          }
        },
        "3272c18b702841c8baca83a86bd2df6a": {
          "model_module": "@jupyter-widgets/base",
          "model_name": "LayoutModel",
          "state": {
            "_view_name": "LayoutView",
            "grid_template_rows": null,
            "right": null,
            "justify_content": null,
            "_view_module": "@jupyter-widgets/base",
            "overflow": null,
            "_model_module_version": "1.2.0",
            "_view_count": null,
            "flex_flow": null,
            "width": null,
            "min_width": null,
            "border": null,
            "align_items": null,
            "bottom": null,
            "_model_module": "@jupyter-widgets/base",
            "top": null,
            "grid_column": null,
            "overflow_y": null,
            "overflow_x": null,
            "grid_auto_flow": null,
            "grid_area": null,
            "grid_template_columns": null,
            "flex": null,
            "_model_name": "LayoutModel",
            "justify_items": null,
            "grid_row": null,
            "max_height": null,
            "align_content": null,
            "visibility": null,
            "align_self": null,
            "height": null,
            "min_height": null,
            "padding": null,
            "grid_auto_rows": null,
            "grid_gap": null,
            "max_width": null,
            "order": null,
            "_view_module_version": "1.2.0",
            "grid_template_areas": null,
            "object_position": null,
            "object_fit": null,
            "grid_auto_columns": null,
            "margin": null,
            "display": null,
            "left": null
          }
        },
        "42e7e29939584e13a3ae59389516e3c8": {
          "model_module": "@jupyter-widgets/controls",
          "model_name": "HBoxModel",
          "state": {
            "_view_name": "HBoxView",
            "_dom_classes": [],
            "_model_name": "HBoxModel",
            "_view_module": "@jupyter-widgets/controls",
            "_model_module_version": "1.5.0",
            "_view_count": null,
            "_view_module_version": "1.5.0",
            "box_style": "",
            "layout": "IPY_MODEL_e86db6e1f1bd45adb2ba050f52e741e1",
            "_model_module": "@jupyter-widgets/controls",
            "children": [
              "IPY_MODEL_f67a51b3c79640d5b2576b136bd5daee",
              "IPY_MODEL_20e836cebd5747108eadad384143e355"
            ]
          }
        },
        "e86db6e1f1bd45adb2ba050f52e741e1": {
          "model_module": "@jupyter-widgets/base",
          "model_name": "LayoutModel",
          "state": {
            "_view_name": "LayoutView",
            "grid_template_rows": null,
            "right": null,
            "justify_content": null,
            "_view_module": "@jupyter-widgets/base",
            "overflow": null,
            "_model_module_version": "1.2.0",
            "_view_count": null,
            "flex_flow": null,
            "width": null,
            "min_width": null,
            "border": null,
            "align_items": null,
            "bottom": null,
            "_model_module": "@jupyter-widgets/base",
            "top": null,
            "grid_column": null,
            "overflow_y": null,
            "overflow_x": null,
            "grid_auto_flow": null,
            "grid_area": null,
            "grid_template_columns": null,
            "flex": null,
            "_model_name": "LayoutModel",
            "justify_items": null,
            "grid_row": null,
            "max_height": null,
            "align_content": null,
            "visibility": null,
            "align_self": null,
            "height": null,
            "min_height": null,
            "padding": null,
            "grid_auto_rows": null,
            "grid_gap": null,
            "max_width": null,
            "order": null,
            "_view_module_version": "1.2.0",
            "grid_template_areas": null,
            "object_position": null,
            "object_fit": null,
            "grid_auto_columns": null,
            "margin": null,
            "display": null,
            "left": null
          }
        },
        "f67a51b3c79640d5b2576b136bd5daee": {
          "model_module": "@jupyter-widgets/controls",
          "model_name": "FloatProgressModel",
          "state": {
            "_view_name": "ProgressView",
            "style": "IPY_MODEL_7744a7198f0746b293b18219913e4470",
            "_dom_classes": [],
            "description": "  0%",
            "_model_name": "FloatProgressModel",
            "bar_style": "info",
            "max": 1,
            "_view_module": "@jupyter-widgets/controls",
            "_model_module_version": "1.5.0",
            "value": 0,
            "_view_count": null,
            "_view_module_version": "1.5.0",
            "orientation": "horizontal",
            "min": 0,
            "description_tooltip": null,
            "_model_module": "@jupyter-widgets/controls",
            "layout": "IPY_MODEL_ec19e7e81dbb481fb89d4182138d5db2"
          }
        },
        "20e836cebd5747108eadad384143e355": {
          "model_module": "@jupyter-widgets/controls",
          "model_name": "HTMLModel",
          "state": {
            "_view_name": "HTMLView",
            "style": "IPY_MODEL_a7ea9f7bd13047c0a5aa7346d89d8da7",
            "_dom_classes": [],
            "description": "",
            "_model_name": "HTMLModel",
            "placeholder": "​",
            "_view_module": "@jupyter-widgets/controls",
            "_model_module_version": "1.5.0",
            "value": " 0/4542 [00:00&lt;?, ?it/s]",
            "_view_count": null,
            "_view_module_version": "1.5.0",
            "description_tooltip": null,
            "_model_module": "@jupyter-widgets/controls",
            "layout": "IPY_MODEL_2440f3983e0443649095b4e532036976"
          }
        },
        "7744a7198f0746b293b18219913e4470": {
          "model_module": "@jupyter-widgets/controls",
          "model_name": "ProgressStyleModel",
          "state": {
            "_view_name": "StyleView",
            "_model_name": "ProgressStyleModel",
            "description_width": "initial",
            "_view_module": "@jupyter-widgets/base",
            "_model_module_version": "1.5.0",
            "_view_count": null,
            "_view_module_version": "1.2.0",
            "bar_color": null,
            "_model_module": "@jupyter-widgets/controls"
          }
        },
        "ec19e7e81dbb481fb89d4182138d5db2": {
          "model_module": "@jupyter-widgets/base",
          "model_name": "LayoutModel",
          "state": {
            "_view_name": "LayoutView",
            "grid_template_rows": null,
            "right": null,
            "justify_content": null,
            "_view_module": "@jupyter-widgets/base",
            "overflow": null,
            "_model_module_version": "1.2.0",
            "_view_count": null,
            "flex_flow": null,
            "width": null,
            "min_width": null,
            "border": null,
            "align_items": null,
            "bottom": null,
            "_model_module": "@jupyter-widgets/base",
            "top": null,
            "grid_column": null,
            "overflow_y": null,
            "overflow_x": null,
            "grid_auto_flow": null,
            "grid_area": null,
            "grid_template_columns": null,
            "flex": null,
            "_model_name": "LayoutModel",
            "justify_items": null,
            "grid_row": null,
            "max_height": null,
            "align_content": null,
            "visibility": null,
            "align_self": null,
            "height": null,
            "min_height": null,
            "padding": null,
            "grid_auto_rows": null,
            "grid_gap": null,
            "max_width": null,
            "order": null,
            "_view_module_version": "1.2.0",
            "grid_template_areas": null,
            "object_position": null,
            "object_fit": null,
            "grid_auto_columns": null,
            "margin": null,
            "display": null,
            "left": null
          }
        },
        "a7ea9f7bd13047c0a5aa7346d89d8da7": {
          "model_module": "@jupyter-widgets/controls",
          "model_name": "DescriptionStyleModel",
          "state": {
            "_view_name": "StyleView",
            "_model_name": "DescriptionStyleModel",
            "description_width": "",
            "_view_module": "@jupyter-widgets/base",
            "_model_module_version": "1.5.0",
            "_view_count": null,
            "_view_module_version": "1.2.0",
            "_model_module": "@jupyter-widgets/controls"
          }
        },
        "2440f3983e0443649095b4e532036976": {
          "model_module": "@jupyter-widgets/base",
          "model_name": "LayoutModel",
          "state": {
            "_view_name": "LayoutView",
            "grid_template_rows": null,
            "right": null,
            "justify_content": null,
            "_view_module": "@jupyter-widgets/base",
            "overflow": null,
            "_model_module_version": "1.2.0",
            "_view_count": null,
            "flex_flow": null,
            "width": null,
            "min_width": null,
            "border": null,
            "align_items": null,
            "bottom": null,
            "_model_module": "@jupyter-widgets/base",
            "top": null,
            "grid_column": null,
            "overflow_y": null,
            "overflow_x": null,
            "grid_auto_flow": null,
            "grid_area": null,
            "grid_template_columns": null,
            "flex": null,
            "_model_name": "LayoutModel",
            "justify_items": null,
            "grid_row": null,
            "max_height": null,
            "align_content": null,
            "visibility": null,
            "align_self": null,
            "height": null,
            "min_height": null,
            "padding": null,
            "grid_auto_rows": null,
            "grid_gap": null,
            "max_width": null,
            "order": null,
            "_view_module_version": "1.2.0",
            "grid_template_areas": null,
            "object_position": null,
            "object_fit": null,
            "grid_auto_columns": null,
            "margin": null,
            "display": null,
            "left": null
          }
        }
      }
    }
  },
  "cells": [
    {
      "cell_type": "code",
      "metadata": {
        "id": "Z4pk6DZWDRve",
        "outputId": "c5288604-ab13-41fd-9ef8-ef8f6d1ed875",
        "colab": {
          "base_uri": "https://localhost:8080/"
        }
      },
      "source": [
        "#Data retrieval process and defining libs \n",
        "\n",
        "import numpy as np \n",
        "import torchvision \n",
        "import torch\n",
        "import os\n",
        "import random \n",
        "import matplotlib.pyplot as plt \n",
        "import torch.nn as nn\n",
        "import torch.nn.functional as F\n",
        "import torch.optim as optim\n",
        "from torch.autograd import Variable\n",
        "\n",
        "seed = 0\n",
        "random.seed(seed)\n",
        "torch.manual_seed(seed)\n",
        "torch.cuda.manual_seed(seed)\n",
        "np.random.seed(seed)\n",
        "torch.backends.cudnn.deterministic=True\n",
        "torch.backends.cudnn.benchmarks=False\n",
        "os.environ['PYTHONHASHSEED'] = str(seed)\n",
        "device = torch.device(\"cuda:0\" if torch.cuda.is_available() else \"cpu\")\n",
        "import torchvision.transforms as transforms\n",
        "TRAIN_ON_GPU = torch.cuda.is_available()\n",
        "losses = []\n",
        "train_value = []\n",
        "\n",
        "train_acc_val = []\n",
        "train_loss_val = []\n",
        "iteration = []  \n",
        "\n",
        "if(TRAIN_ON_GPU):\n",
        "    print('Training on GPU!')\n",
        "\n",
        "num_workers = 0\n",
        "batch_size = 20\n",
        "\n",
        "transform = transforms.ToTensor()\n",
        "\n",
        "train_data = torchvision.datasets.MNIST(root = '/data', train = True, download = True, transform = transform)\n",
        "test_data = torchvision.datasets.MNIST(root = '/data', train = False, download = True, transform = transform)\n",
        "\n",
        "train_loader = torchvision.torch.utils.data.DataLoader(train_data, batch_size = batch_size, num_workers = num_workers)\n",
        "test_loader  = torchvision.torch.utils.data.DataLoader(test_data, batch_size = batch_size, num_workers = num_workers)\n",
        "\n",
        "def softmax(input_tensor, dim=1):\n",
        "    # transpose input\n",
        "    transposed_input = input_tensor.transpose(dim, len(input_tensor.size()) - 1)\n",
        "    # calculate softmax\n",
        "    softmaxed_output = F.softmax(transposed_input.contiguous().view(-1, transposed_input.size(-1)), dim=-1)\n",
        "    # un-transpose result\n",
        "    return softmaxed_output.view(*transposed_input.size()).transpose(dim, len(input_tensor.size()) - 1)\n",
        "\n",
        "#Squash function \n",
        "def squash(u):\n",
        "  norm = (u ** 2).sum(-1, keepdim=True)\n",
        "  denom = ((1. + norm) * torch.sqrt(norm))\n",
        "  if torch.isinf(denom).sum().item()>0:\n",
        "    squash_output = u / torch.sqrt(norm)\n",
        "  else:\n",
        "    squash_output = norm * u / ((1. + norm) * torch.sqrt(norm))\n",
        "  return squash_output"
      ],
      "execution_count": null,
      "outputs": [
        {
          "output_type": "stream",
          "text": [
            "Training on GPU!\n"
          ],
          "name": "stdout"
        }
      ]
    },
    {
      "cell_type": "markdown",
      "metadata": {
        "id": "hysgYXVCjPdv"
      },
      "source": [
        "**Encoder network bold text**"
      ]
    },
    {
      "cell_type": "code",
      "metadata": {
        "id": "YvUWdX9ZgIs7"
      },
      "source": [
        "#The encoder layer before Primary Capsule \n",
        "class ConvLayer(nn.Module):\n",
        "  def __init__(self, in_channels = 1, out_channels = 256):\n",
        "    super(ConvLayer, self).__init__()\n",
        "    self.conv = nn.Conv2d(in_channels = in_channels, out_channels = out_channels, kernel_size = 9, stride = 1, padding = 0)\n",
        "    \n",
        "  def forward(self, x):\n",
        "    out = F.relu(self.conv(x))\n",
        "    return out\n"
      ],
      "execution_count": null,
      "outputs": []
    },
    {
      "cell_type": "markdown",
      "metadata": {
        "id": "bTPNU9rZk7t-"
      },
      "source": [
        "**Primary Capsules**"
      ]
    },
    {
      "cell_type": "code",
      "metadata": {
        "id": "WmJ1mPhfk7In"
      },
      "source": [
        "class PrimaryCapsule(nn.Module):\n",
        "  def __init__(self, num_capsules = 8, in_channels = 256, out_channels = 32):\n",
        "    super(PrimaryCapsule, self).__init__()\n",
        "    self.capsules = nn.ModuleList([nn.Conv2d(in_channels = in_channels, out_channels = out_channels, kernel_size = 9, stride = 2, padding = 0) for _ in range(0, num_capsules)])\n",
        "    \n",
        "  def forward(self, x):\n",
        "    u = [capsule(x).view(batch_size, 32 * 6 * 6, 1) for capsule in self.capsules]\n",
        "    u = torch.cat(u, dim=-1)\n",
        "    # squashing the stack of vectors\n",
        "    out_squash = squash(u)\n",
        "    return out_squash\n"
      ],
      "execution_count": null,
      "outputs": []
    },
    {
      "cell_type": "markdown",
      "metadata": {
        "id": "P14H0bNKLNa7"
      },
      "source": [
        "**Dynamic routing** - Don't use this\n",
        "\n"
      ]
    },
    {
      "cell_type": "code",
      "metadata": {
        "id": "5WRkao-ISqRf"
      },
      "source": [
        "def dynamic_routing(b_ij, u_hat, iterations=3):\n",
        "    for i in range(0, iterations):\n",
        "        c_ij = softmax(b_ij, dim=2)\n",
        "\n",
        "        # calculating total capsule inputs\n",
        "        s_j = (c_ij * u_hat).sum(dim=2, keepdim=True)\n",
        "\n",
        "        # squashing to get a normalized vector output, v_j\n",
        "        v_j = squash(s_j)\n",
        "\n",
        "        # if not on the last iteration, calculate agreement and new b_ij\n",
        "        if i < iterations - 1:\n",
        "            # agreement\n",
        "            a_ij = (u_hat * v_j).sum(dim=-1, keepdim=True)\n",
        "            \n",
        "            # new b_ij\n",
        "            b_ij = b_ij + a_ij\n",
        "    \n",
        "    return v_j # return latest v_j\n"
      ],
      "execution_count": null,
      "outputs": []
    },
    {
      "cell_type": "markdown",
      "metadata": {
        "id": "N0YiwmVFwjFB"
      },
      "source": [
        "**Digit Capsules**"
      ]
    },
    {
      "cell_type": "code",
      "metadata": {
        "id": "i4OC_G8SwrC5"
      },
      "source": [
        "class DigitCapsule(nn.Module):\n",
        "  def __init__(self, num_capsules = 10, num_routes = 32*6*6, in_channels = 8, out_channels = 16):\n",
        "    super(DigitCapsule, self).__init__()\n",
        "    #Weight i-j (connecting the primary capsule and the digit capsules)\n",
        "    self.W = nn.Parameter(torch.randn(num_capsules, num_routes, in_channels, out_channels))\n",
        "\n",
        "  def forward(self, u):\n",
        "    u = u[None, :, : , None, :]\n",
        "    W = self.W[:, None, :, :, :]\n",
        "    u_hat = torch.matmul(u, W)\n",
        "    b_ij = torch.zeros(*u_hat.size())\n",
        "    if TRAIN_ON_GPU:\n",
        "      b_ij = b_ij.cuda()\n",
        "      u_hat = u_hat.cuda()\n",
        "    '''b_ij.to(device)\n",
        "    u_hat.to(device)'''\n",
        "    iterations = 3\n",
        "    for i in range(0, iterations):\n",
        "      c_ij = softmax(b_ij, dim=2)\n",
        "      if TRAIN_ON_GPU:\n",
        "          c_ij = c_ij.cuda()\n",
        "      # calculating total capsule inputs\n",
        "      s_j = (c_ij * u_hat).sum(dim=2, keepdim=True)\n",
        "      # squashing to get a normalized vector output, v_j\n",
        "      v_j = squash(s_j)\n",
        "      # if not on the last iteration, calculate agreement and new b_ij\n",
        "      if i < iterations - 1:\n",
        "        # agreement\n",
        "        a_ij = (u_hat * v_j).sum(dim=-1, keepdim=True)\n",
        "        # new b_ij\n",
        "        b_ij = b_ij + a_ij\n",
        "\n",
        "    return v_j "
      ],
      "execution_count": null,
      "outputs": []
    },
    {
      "cell_type": "markdown",
      "metadata": {
        "id": "jDVIc820UBhp"
      },
      "source": [
        "**Decoder for DigitCapsules**"
      ]
    },
    {
      "cell_type": "code",
      "metadata": {
        "id": "XvTNM4xkYJc7"
      },
      "source": [
        "class Decoder(nn.Module):\n",
        "    def __init__(self, in_vector=16, num_capsules=10, hidden_dim=512):\n",
        "        super(Decoder, self).__init__()\n",
        "        # calculate input_dim\n",
        "        input_dim = in_vector * num_capsules\n",
        "        \n",
        "        #Dense layers for decoder network\n",
        "        self.linear_layers = nn.Sequential(\n",
        "            nn.Linear(input_dim, hidden_dim), # first hidden layer\n",
        "            nn.ReLU(inplace=True),\n",
        "            nn.Linear(hidden_dim, hidden_dim*2), # second, twice as deep\n",
        "            nn.ReLU(inplace=True),\n",
        "            nn.Linear(hidden_dim*2, 28*28), # can be reshaped into 28*28 image\n",
        "            nn.Sigmoid() # sigmoid activation to get output pixel values in a range from 0-1\n",
        "            )\n",
        "        \n",
        "    def forward(self, x):\n",
        "        classes = (x ** 2).sum(dim=-1) ** 0.5\n",
        "        #classes = (x ** 2).sum(dim=-1) ** 0.5\n",
        "        classes = F.softmax(classes, dim=-1)\n",
        "        # Identify the capsule with maximum vector length - indicating the probability of each class\n",
        "        _, max_length_indices = classes.max(dim=1)\n",
        "        \n",
        "        # We create a sparse matrix for 10 classes\n",
        "        sparse_matrix = torch.eye(10) \n",
        "        if TRAIN_ON_GPU:\n",
        "            sparse_matrix = sparse_matrix.cuda()\n",
        "        # compute the classes score from the \"correct\" capsule\n",
        "        y = sparse_matrix.index_select(dim=0, index=max_length_indices.data)\n",
        "        # create reconstructed pixels\n",
        "        x = x * y[:, :, None]\n",
        "        # flatten image into a vector shape (batch_size, vector_dim)\n",
        "        flattened_vector = x.contiguous().view(x.size(0), -1)\n",
        "        # create reconstructed image vectors\n",
        "        reconstructions = self.linear_layers(flattened_vector)\n",
        "        \n",
        "        # return reconstructions and the class scores, y\n",
        "        return reconstructions, y\n"
      ],
      "execution_count": null,
      "outputs": []
    },
    {
      "cell_type": "markdown",
      "metadata": {
        "id": "6_O0Ly4g-4Sq"
      },
      "source": [
        "**Connecting all the above layers with each other**"
      ]
    },
    {
      "cell_type": "code",
      "metadata": {
        "id": "PZnV7Fo0-ghL"
      },
      "source": [
        "class CapsNet(nn.Module):\n",
        "  def __init__(self):\n",
        "    super(CapsNet, self).__init__()\n",
        "    self.ConvLayer = ConvLayer()\n",
        "    self.PrimaryCapsule = PrimaryCapsule()\n",
        "    self.DigitCapsule = DigitCapsule()\n",
        "    self.Decoder = Decoder()\n",
        "  def forward(self, inputs):\n",
        "    pricaps_out = self.PrimaryCapsule(self.ConvLayer(inputs))\n",
        "    digicaps_out = self.DigitCapsule(pricaps_out).squeeze().transpose(0,1)\n",
        "    recon, y = self.Decoder(digicaps_out)\n",
        "    return digicaps_out, recon, y"
      ],
      "execution_count": null,
      "outputs": []
    },
    {
      "cell_type": "code",
      "metadata": {
        "id": "dGDA5AH5ClBM"
      },
      "source": [
        "capsnet = CapsNet()\n",
        "if TRAIN_ON_GPU:\n",
        "    capsnet.cuda()"
      ],
      "execution_count": null,
      "outputs": []
    },
    {
      "cell_type": "code",
      "metadata": {
        "id": "OrTPJx7OCtSc"
      },
      "source": [
        "class CustomLoss(nn.Module):\n",
        "    \n",
        "    def __init__(self):\n",
        "        super(CustomLoss, self).__init__()\n",
        "        self.reconstruction_loss = nn.MSELoss(reduction='sum') # cumulative loss\n",
        "\n",
        "    def forward(self, inputs, digicaps_out, labels, reconstructions):\n",
        "        batch_size = digicaps_out.size(0)\n",
        "        ##  calculate the margin loss   ##\n",
        "        # get magnitude of digit capsule vectors, v_c\n",
        "        digicaps_vector = torch.sqrt((digicaps_out**2).sum(dim=2, keepdim=True))\n",
        "\n",
        "        # calculate \"correct\" and incorrect loss\n",
        "        correct = F.relu(0.9 - digicaps_vector).view(batch_size, -1)\n",
        "        incorrect = F.relu(digicaps_vector - 0.1).view(batch_size, -1)\n",
        "        \n",
        "        # sum the losses, with a lambda = 0.5\n",
        "        margin_loss = labels * correct + 0.5 * (1. - labels) * incorrect\n",
        "        margin_loss = margin_loss.sum()\n",
        "\n",
        "        ##  calculate the reconstruction loss   ##\n",
        "        inputs = inputs.view(reconstructions.size()[0], -1)\n",
        "        reconstruction_loss = self.reconstruction_loss(reconstructions, inputs)\n",
        "\n",
        "        # return a sum of margin and reconstruction loss, averaged over one batch size\n",
        "        return (margin_loss + 0.0005 * reconstruction_loss) / inputs.size(0)\n"
      ],
      "execution_count": null,
      "outputs": []
    },
    {
      "cell_type": "code",
      "metadata": {
        "id": "uXHUygq9Ez2O"
      },
      "source": [
        "criterion = CustomLoss()\n",
        "optimizer = optim.Adam(capsnet.parameters())"
      ],
      "execution_count": null,
      "outputs": []
    },
    {
      "cell_type": "code",
      "metadata": {
        "id": "dqeqGoUDNL1Z"
      },
      "source": [
        "def train(capsule_net, criterion, optimizer, epochs):\n",
        "\n",
        "    for epoch in range(1, epochs+1):\n",
        "        correct_class = list(0 for i in range(10))\n",
        "        total_class = list(0 for i in range(10))\n",
        "        train_loss = 0.0\n",
        "        capsnet.train() # set to train mode\n",
        "        # get batches of training image data and targets\n",
        "        for i, (inputs, target) in enumerate(train_loader):\n",
        "            # reshape and get target class\n",
        "            target = torch.eye(10).index_select(dim=0, index=target)\n",
        "            inputs, target = inputs.cuda(), target.cuda()\n",
        "            # zero out gradients\n",
        "            optimizer.zero_grad()\n",
        "            # get model outputs\n",
        "            digicaps_out, recon, y = capsnet(inputs)\n",
        "            # calculate loss\n",
        "            loss = criterion(inputs, digicaps_out, target, recon)\n",
        "            # perform backpropagation and optimization\n",
        "            loss.backward()\n",
        "            optimizer.step()\n",
        "            _, pred = torch.max(y.data.cpu(), 1)\n",
        "            _, target_shape = torch.max(target.data.cpu(), 1)\n",
        "            # compare predictions to true label\n",
        "            correct = np.squeeze(pred.eq(target_shape.data.view_as(pred)))\n",
        "            train_loss += loss.item() # accumulated training loss\n",
        "            for k in range(batch_size):\n",
        "              label = target_shape.data[k]\n",
        "              correct_class[label] += correct[k].item()\n",
        "              total_class[label] += 1\n",
        "            # print and record training stats\n",
        "            if i != 0 and i % 300 == 0:\n",
        "                avg_train_loss = train_loss/300\n",
        "                losses.append(avg_train_loss)\n",
        "                print('Epoch: {} \\tTraining Loss: {:.8f}'.format(epoch, avg_train_loss))\n",
        "                train_loss = 0 # reset accumulated training loss\n",
        "        print(\"Training accuracy is:\", np.sum(correct_class) / float((batch_size*i)))\n",
        "        train_acc_val.append(np.sum(correct_class) / float((batch_size*i)))\n",
        "        train_loss_val.append(train_loss / float(i))\n",
        "        iteration.append(epoch)\n",
        "\n",
        "        \n",
        "    return losses\n"
      ],
      "execution_count": null,
      "outputs": []
    },
    {
      "cell_type": "code",
      "metadata": {
        "id": "RvfFWFNZFkpq",
        "outputId": "5e0408ec-a1b4-489b-ffc7-2cba4a6a9877",
        "colab": {
          "base_uri": "https://localhost:8080/"
        }
      },
      "source": [
        "epochs = 10\n",
        "losses = train(capsnet, criterion, optimizer, epochs)\n"
      ],
      "execution_count": null,
      "outputs": [
        {
          "output_type": "stream",
          "text": [
            "Epoch: 1 \tTraining Loss: 0.25544014\n",
            "Epoch: 1 \tTraining Loss: 0.09829773\n",
            "Epoch: 1 \tTraining Loss: 0.07515303\n",
            "Epoch: 1 \tTraining Loss: 0.06055370\n",
            "Epoch: 1 \tTraining Loss: 0.05959252\n",
            "Epoch: 1 \tTraining Loss: 0.05386589\n",
            "Epoch: 1 \tTraining Loss: 0.05140513\n",
            "Epoch: 1 \tTraining Loss: 0.05055637\n",
            "Epoch: 1 \tTraining Loss: 0.04780865\n",
            "Training accuracy is: 0.9726242080693565\n",
            "Epoch: 2 \tTraining Loss: 0.04202354\n",
            "Epoch: 2 \tTraining Loss: 0.04037511\n",
            "Epoch: 2 \tTraining Loss: 0.03638677\n",
            "Epoch: 2 \tTraining Loss: 0.03496892\n",
            "Epoch: 2 \tTraining Loss: 0.03551925\n",
            "Epoch: 2 \tTraining Loss: 0.03456583\n",
            "Epoch: 2 \tTraining Loss: 0.03483409\n",
            "Epoch: 2 \tTraining Loss: 0.03395099\n",
            "Epoch: 2 \tTraining Loss: 0.03241137\n",
            "Training accuracy is: 0.9909469823274425\n",
            "Epoch: 3 \tTraining Loss: 0.03185895\n",
            "Epoch: 3 \tTraining Loss: 0.02973236\n",
            "Epoch: 3 \tTraining Loss: 0.02810448\n",
            "Epoch: 3 \tTraining Loss: 0.02799930\n",
            "Epoch: 3 \tTraining Loss: 0.02805385\n",
            "Epoch: 3 \tTraining Loss: 0.02748890\n",
            "Epoch: 3 \tTraining Loss: 0.02839696\n",
            "Epoch: 3 \tTraining Loss: 0.02761343\n",
            "Epoch: 3 \tTraining Loss: 0.02738163\n",
            "Training accuracy is: 0.9944481493831278\n",
            "Epoch: 4 \tTraining Loss: 0.02607638\n",
            "Epoch: 4 \tTraining Loss: 0.02354858\n",
            "Epoch: 4 \tTraining Loss: 0.02377297\n",
            "Epoch: 4 \tTraining Loss: 0.02288399\n",
            "Epoch: 4 \tTraining Loss: 0.02425330\n",
            "Epoch: 4 \tTraining Loss: 0.02261563\n",
            "Epoch: 4 \tTraining Loss: 0.02531732\n",
            "Epoch: 4 \tTraining Loss: 0.02396482\n",
            "Epoch: 4 \tTraining Loss: 0.02336006\n",
            "Training accuracy is: 0.9964988329443147\n",
            "Epoch: 5 \tTraining Loss: 0.02187456\n",
            "Epoch: 5 \tTraining Loss: 0.02075888\n",
            "Epoch: 5 \tTraining Loss: 0.02044069\n",
            "Epoch: 5 \tTraining Loss: 0.02002421\n",
            "Epoch: 5 \tTraining Loss: 0.02163527\n",
            "Epoch: 5 \tTraining Loss: 0.01990769\n",
            "Epoch: 5 \tTraining Loss: 0.02141276\n",
            "Epoch: 5 \tTraining Loss: 0.02096578\n",
            "Epoch: 5 \tTraining Loss: 0.02022671\n",
            "Training accuracy is: 0.9976992330776926\n",
            "Epoch: 6 \tTraining Loss: 0.02099838\n",
            "Epoch: 6 \tTraining Loss: 0.01948234\n",
            "Epoch: 6 \tTraining Loss: 0.01945898\n",
            "Epoch: 6 \tTraining Loss: 0.01830519\n",
            "Epoch: 6 \tTraining Loss: 0.01937598\n",
            "Epoch: 6 \tTraining Loss: 0.01822957\n",
            "Epoch: 6 \tTraining Loss: 0.01992144\n",
            "Epoch: 6 \tTraining Loss: 0.01930574\n",
            "Epoch: 6 \tTraining Loss: 0.01898911\n",
            "Training accuracy is: 0.9978659553184395\n",
            "Epoch: 7 \tTraining Loss: 0.01868132\n",
            "Epoch: 7 \tTraining Loss: 0.01745712\n",
            "Epoch: 7 \tTraining Loss: 0.01661650\n",
            "Epoch: 7 \tTraining Loss: 0.01661535\n",
            "Epoch: 7 \tTraining Loss: 0.01791259\n",
            "Epoch: 7 \tTraining Loss: 0.01665611\n",
            "Epoch: 7 \tTraining Loss: 0.01813071\n",
            "Epoch: 7 \tTraining Loss: 0.01804463\n",
            "Epoch: 7 \tTraining Loss: 0.01742956\n",
            "Training accuracy is: 0.9985995331777259\n",
            "Epoch: 8 \tTraining Loss: 0.01675045\n",
            "Epoch: 8 \tTraining Loss: 0.01600419\n",
            "Epoch: 8 \tTraining Loss: 0.01620327\n",
            "Epoch: 8 \tTraining Loss: 0.01654480\n",
            "Epoch: 8 \tTraining Loss: 0.01615870\n",
            "Epoch: 8 \tTraining Loss: 0.01579272\n",
            "Epoch: 8 \tTraining Loss: 0.01702170\n",
            "Epoch: 8 \tTraining Loss: 0.01699492\n",
            "Epoch: 8 \tTraining Loss: 0.01807812\n",
            "Training accuracy is: 0.9987995998666223\n",
            "Epoch: 9 \tTraining Loss: 0.01674930\n",
            "Epoch: 9 \tTraining Loss: 0.01586635\n",
            "Epoch: 9 \tTraining Loss: 0.01541710\n",
            "Epoch: 9 \tTraining Loss: 0.01494400\n",
            "Epoch: 9 \tTraining Loss: 0.01580026\n",
            "Epoch: 9 \tTraining Loss: 0.01515871\n",
            "Epoch: 9 \tTraining Loss: 0.01717342\n",
            "Epoch: 9 \tTraining Loss: 0.01583621\n",
            "Epoch: 9 \tTraining Loss: 0.01643720\n",
            "Training accuracy is: 0.9989496498832944\n",
            "Epoch: 10 \tTraining Loss: 0.01591243\n",
            "Epoch: 10 \tTraining Loss: 0.01522790\n",
            "Epoch: 10 \tTraining Loss: 0.01424112\n",
            "Epoch: 10 \tTraining Loss: 0.01527950\n",
            "Epoch: 10 \tTraining Loss: 0.01575067\n",
            "Epoch: 10 \tTraining Loss: 0.01451061\n",
            "Epoch: 10 \tTraining Loss: 0.01599954\n",
            "Epoch: 10 \tTraining Loss: 0.01521818\n",
            "Epoch: 10 \tTraining Loss: 0.01561355\n",
            "Training accuracy is: 0.9991163721240414\n"
          ],
          "name": "stdout"
        }
      ]
    },
    {
      "cell_type": "code",
      "metadata": {
        "id": "GH_HJEbQIN2J",
        "outputId": "b0b69e99-8d3a-42d4-af00-6e94907c2479",
        "colab": {
          "base_uri": "https://localhost:8080/",
          "height": 295
        }
      },
      "source": [
        "plt.plot(iteration, train_loss_val)\n",
        "plt.title(\"Training Loss for MNIST\")\n",
        "plt.xlabel(\"#Epochs\")\n",
        "plt.ylabel(\"Training Loss\")\n",
        "plt.show()\n"
      ],
      "execution_count": null,
      "outputs": [
        {
          "output_type": "display_data",
          "data": {
            "image/png": "[encoded data removed]",
            "text/plain": [
              "<Figure size 432x288 with 1 Axes>"
            ]
          },
          "metadata": {
            "tags": [],
            "needs_background": "light"
          }
        }
      ]
    },
    {
      "cell_type": "code",
      "metadata": {
        "id": "gbOIXHZ9wBWY",
        "outputId": "8ab90639-68a9-4519-888b-90863c629f65",
        "colab": {
          "base_uri": "https://localhost:8080/",
          "height": 295
        }
      },
      "source": [
        "plt.plot(iteration, train_acc_val)\n",
        "plt.title(\"Training accuracy for MNIST\")\n",
        "plt.xlabel(\"#Epochs\")\n",
        "plt.ylabel(\"Training accuracy\")\n",
        "plt.show()\n"
      ],
      "execution_count": null,
      "outputs": [
        {
          "output_type": "display_data",
          "data": {
            "image/png": "[encoded data removed]",
            "text/plain": [
              "<Figure size 432x288 with 1 Axes>"
            ]
          },
          "metadata": {
            "tags": [],
            "needs_background": "light"
          }
        }
      ]
    },
    {
      "cell_type": "markdown",
      "metadata": {
        "id": "5VVq7wVKY_jf"
      },
      "source": [
        "**Testing the model**"
      ]
    },
    {
      "cell_type": "code",
      "metadata": {
        "id": "DF3HHwRIYqu-"
      },
      "source": [
        "from sklearn.metrics import confusion_matrix\n",
        "import seaborn as sn\n",
        "\n",
        "def test(capsule_net, test_loader):\n",
        "    correct_class = list(0 for i in range(10))\n",
        "    total_class = list(0 for i in range(10))\n",
        "    a = []\n",
        "    b = []\n",
        "    \n",
        "    test_loss = 0 # loss tracking\n",
        "    capsule_net.eval() # eval mode\n",
        "\n",
        "    for n, (inputs, target) in enumerate(test_loader):\n",
        "        target = torch.eye(10).index_select(dim=0, index=target)\n",
        "        batch_size = inputs.size(0)\n",
        "        inputs, target = inputs.cuda(), target.cuda()\n",
        "        # forward pass: compute predicted outputs by passing inputs to the model\n",
        "        digicaps_out, recon, y = capsnet(inputs)\n",
        "        # calculate the loss\n",
        "        loss = criterion(inputs, digicaps_out, target, recon)\n",
        "        # update average test loss \n",
        "        test_loss += loss.item()\n",
        "        # convert output probabilities to predicted class\n",
        "        _, pred = torch.max(y.data.cpu(), 1)\n",
        "        _, target_shape = torch.max(target.data.cpu(), 1)\n",
        "\n",
        "        for i in pred:\n",
        "            a.append(i)\n",
        "        \n",
        "        for j in target_shape:\n",
        "            b.append(j)\n",
        "\n",
        "        # compare predictions to true label\n",
        "        correct = np.squeeze(pred.eq(target_shape.data.view_as(pred)))\n",
        "        # calculate test accuracy for each object class\n",
        "        for i in range(batch_size):\n",
        "            label = target_shape.data[i]\n",
        "            correct_class[label] += correct[i].item()\n",
        "            total_class[label] += 1\n",
        "\n",
        "    a = np.array(a)\n",
        "    b = np.array(b)\n",
        "    cm = confusion_matrix(a,b)\n",
        "\n",
        "    fig = plt.figure()\n",
        "    ax = plt.subplot()\n",
        "    sn.set(font_scale=1) # Adjust to fit\n",
        "    sn.heatmap(cm, annot=True, ax=ax, cmap=\"Blues\", fmt=\"g\");  \n",
        "    # Labels, title and ticks\n",
        "    label_font = {'size':'12'}  # Adjust to fit\n",
        "    ax.set_xlabel('Actual labels', fontdict=label_font);\n",
        "    ax.set_ylabel('Predicted labels', fontdict=label_font);\n",
        "    title_font = {'size':'12'}  # Adjust to fit\n",
        "    ax.set_title('Confusion Matrix', fontdict=title_font);\n",
        "    ax.tick_params(axis='both', which='major', labelsize=12)  # Adjust to fit\n",
        "    ax.xaxis.set_ticklabels(['0', '1', '2', '3', '4', '5', '6', '7', '8', '9']);\n",
        "    ax.yaxis.set_ticklabels(['0', '1', '2', '3', '4', '5', '6', '7', '8', '9']);\n",
        "    plt.show()\n",
        "    fig.savefig('cm.jpg')\n",
        "\n",
        "    avg_test_loss = test_loss/len(test_loader)\n",
        "    print('Test Loss of MNIST dataset: {:.4f}\\n'.format(avg_test_loss))\n",
        "    print('Test accuracy of individual classes are as follows: \\n')\n",
        "    for i in range(10):\n",
        "        if total_class[i] > 0:\n",
        "            print('Test Accuracy of class %1s: %2d%% (%2d/%2d)' % (\n",
        "                str(i), 100 * correct_class[i] / total_class[i],\n",
        "                np.sum(correct_class[i]), np.sum(total_class[i])))\n",
        "        else:\n",
        "            print('Test Accuracy of %5s: N/A (no training examples)' % (classes[i]))\n",
        "\n",
        "    print('\\nTest Accuracy (Overall): %2d%% (%2d/%2d)' % (\n",
        "        100. * np.sum(correct_class) / np.sum(total_class),\n",
        "        np.sum(correct_class), np.sum(total_class)))\n",
        "    \n",
        "    # return last batch of capsule vectors, images, reconstructions\n",
        "    return digicaps_out, inputs, recon\n"
      ],
      "execution_count": null,
      "outputs": []
    },
    {
      "cell_type": "code",
      "metadata": {
        "id": "B2f-DQZDa9_2",
        "outputId": "8ab4d1c1-ef72-4eff-dec3-4487c6e7504e",
        "colab": {
          "base_uri": "https://localhost:8080/",
          "height": 579
        }
      },
      "source": [
        "digicaps_out, inputs, recon = test(capsnet, test_loader)"
      ],
      "execution_count": null,
      "outputs": [
        {
          "output_type": "display_data",
          "data": {
            "image/png": "[encoded data removed]",
            "text/plain": [
              "<Figure size 432x288 with 2 Axes>"
            ]
          },
          "metadata": {
            "tags": [],
            "needs_background": "light"
          }
        },
        {
          "output_type": "stream",
          "text": [
            "Test Loss of MNIST dataset: 0.0272\n",
            "\n",
            "Test accuracy of individual classes are as follows: \n",
            "\n",
            "Test Accuracy of class 0: 99% (979/980)\n",
            "Test Accuracy of class 1: 99% (1132/1135)\n",
            "Test Accuracy of class 2: 99% (1025/1032)\n",
            "Test Accuracy of class 3: 98% (997/1010)\n",
            "Test Accuracy of class 4: 98% (971/982)\n",
            "Test Accuracy of class 5: 99% (887/892)\n",
            "Test Accuracy of class 6: 98% (948/958)\n",
            "Test Accuracy of class 7: 99% (1023/1028)\n",
            "Test Accuracy of class 8: 99% (968/974)\n",
            "Test Accuracy of class 9: 98% (990/1009)\n",
            "\n",
            "Test Accuracy (Overall): 99% (9920/10000)\n"
          ],
          "name": "stdout"
        }
      ]
    },
    {
      "cell_type": "code",
      "metadata": {
        "id": "SuNEoVfYbHDA"
      },
      "source": [
        "def display_images(inputs, recon):\n",
        "    # convert to numpy images\n",
        "    inputs = inputs.data.cpu().numpy()\n",
        "    recon = recon.view(-1, 1, 28, 28)\n",
        "    recon = recon.data.cpu().numpy()\n",
        "    print(inputs.shape)\n",
        "    print(recon.shape)\n",
        "    \n",
        "    # plot the first ten input images and then reconstructed images\n",
        "    fig, axes = plt.subplots(nrows=2, ncols=10, sharex=True, sharey=True, figsize=(26,5))\n",
        "\n",
        "    # input images on top row, reconstructions on bottom\n",
        "    for images, row in zip([inputs, recon], axes):\n",
        "        for img, ax in zip(images, row):\n",
        "            ax.imshow(np.squeeze(img), cmap='gray')\n",
        "            ax.get_xaxis().set_visible(False)\n",
        "            ax.get_yaxis().set_visible(False)\n"
      ],
      "execution_count": null,
      "outputs": []
    },
    {
      "cell_type": "code",
      "metadata": {
        "id": "EPb7jYungZQM",
        "outputId": "c9b3a8eb-eedf-4730-ce3e-2c44effd2d80",
        "colab": {
          "base_uri": "https://localhost:8080/",
          "height": 305
        }
      },
      "source": [
        "display_images(inputs, recon)"
      ],
      "execution_count": null,
      "outputs": [
        {
          "output_type": "stream",
          "text": [
            "(20, 1, 28, 28)\n",
            "(20, 1, 28, 28)\n"
          ],
          "name": "stdout"
        },
        {
          "output_type": "display_data",
          "data": {
            "image/png": "[encoded data removed]",
            "text/plain": [
              "<Figure size 1872x360 with 20 Axes>"
            ]
          },
          "metadata": {
            "tags": [],
            "needs_background": "light"
          }
        }
      ]
    },
    {
      "cell_type": "markdown",
      "metadata": {
        "id": "VJ6seADThTe3"
      },
      "source": [
        "**Analysis of CapsuleNets on Affine Transforms**"
      ]
    },
    {
      "cell_type": "code",
      "metadata": {
        "id": "2Tk-I87ugboH",
        "outputId": "a34cf52a-307a-4861-e781-3722365f831c",
        "colab": {
          "base_uri": "https://localhost:8080/",
          "height": 408,
          "referenced_widgets": [
            "c099bc7ef95143fe936cd554fcec24a6",
            "1b715c25dbc844699fa2563a8cd8aa1c",
            "fb471cddcf7640618396f419c7d2ab63",
            "9ae8eae5dfae438891c2afad835247cd",
            "d4c335b3749f42d88259ea44108f313b",
            "d8d28d29b83248a8a49881ad62c45a77",
            "2ceed7623602428ca0bb20b628848f97",
            "ca0a0b26e9e34bf3bb956c9d4d9212a0",
            "8edb010e8f424145bddb25e076cef4a4",
            "05095b37e14b42c8b4c09d35536d5e82",
            "d6ff7008d52945339a3a09cf79736464",
            "1708860e42cb4df097924650dca0fb13",
            "16fc3ade8e494f3c8c78cb2585a12913",
            "b646c35667bb4b55b0b7dc9cfe087ac8",
            "ed70e4a922694bc6a9a2166a7a648ecd",
            "b1557da19ddf42968f105b04a15f670b",
            "deb5a76139ae4c9ba80775cbdce80a43",
            "e68713a241004937a868a962742987f4",
            "1f6cb58ca4004f86befaa96baf9b576e",
            "4793a641ff5643c4b56c3c101bcd2461",
            "79f3cb63f40d4d9e9842ab39294bae6a",
            "15387eab6b4b49a68ff3aad1197fe01e",
            "f67fd26df36d4d70a1925922cbbae304",
            "3272c18b702841c8baca83a86bd2df6a",
            "42e7e29939584e13a3ae59389516e3c8",
            "e86db6e1f1bd45adb2ba050f52e741e1",
            "f67a51b3c79640d5b2576b136bd5daee",
            "20e836cebd5747108eadad384143e355",
            "7744a7198f0746b293b18219913e4470",
            "ec19e7e81dbb481fb89d4182138d5db2",
            "a7ea9f7bd13047c0a5aa7346d89d8da7",
            "2440f3983e0443649095b4e532036976"
          ]
        }
      },
      "source": [
        "new_transform = transforms.Compose([transforms.RandomAffine(degrees=(-10, 10), translate=(0.1,0.1), scale = (0.7, 1.3), shear = 0), transforms.ToTensor()])\n",
        "\n",
        "# test dataset\n",
        "transformed_test_data = torchvision.datasets.MNIST(root='data', train=False,\n",
        "                                       download=True, transform=new_transform)\n",
        "\n",
        "# prepare data loader\n",
        "transformed_test_loader = torch.utils.data.DataLoader(transformed_test_data, batch_size=batch_size, num_workers=num_workers)\n"
      ],
      "execution_count": null,
      "outputs": [
        {
          "output_type": "stream",
          "text": [
            "Downloading http://yann.lecun.com/exdb/mnist/train-images-idx3-ubyte.gz to data/MNIST/raw/train-images-idx3-ubyte.gz\n"
          ],
          "name": "stdout"
        },
        {
          "output_type": "display_data",
          "data": {
            "application/vnd.jupyter.widget-view+json": {
              "model_id": "c099bc7ef95143fe936cd554fcec24a6",
              "version_minor": 0,
              "version_major": 2
            },
            "text/plain": [
              "HBox(children=(FloatProgress(value=1.0, bar_style='info', max=1.0), HTML(value='')))"
            ]
          },
          "metadata": {
            "tags": []
          }
        },
        {
          "output_type": "stream",
          "text": [
            "Extracting data/MNIST/raw/train-images-idx3-ubyte.gz to data/MNIST/raw\n",
            "Downloading http://yann.lecun.com/exdb/mnist/train-labels-idx1-ubyte.gz to data/MNIST/raw/train-labels-idx1-ubyte.gz\n"
          ],
          "name": "stdout"
        },
        {
          "output_type": "display_data",
          "data": {
            "application/vnd.jupyter.widget-view+json": {
              "model_id": "8edb010e8f424145bddb25e076cef4a4",
              "version_minor": 0,
              "version_major": 2
            },
            "text/plain": [
              "HBox(children=(FloatProgress(value=1.0, bar_style='info', max=1.0), HTML(value='')))"
            ]
          },
          "metadata": {
            "tags": []
          }
        },
        {
          "output_type": "stream",
          "text": [
            "Extracting data/MNIST/raw/train-labels-idx1-ubyte.gz to data/MNIST/raw\n",
            "Downloading http://yann.lecun.com/exdb/mnist/t10k-images-idx3-ubyte.gz to data/MNIST/raw/t10k-images-idx3-ubyte.gz\n"
          ],
          "name": "stdout"
        },
        {
          "output_type": "display_data",
          "data": {
            "application/vnd.jupyter.widget-view+json": {
              "model_id": "deb5a76139ae4c9ba80775cbdce80a43",
              "version_minor": 0,
              "version_major": 2
            },
            "text/plain": [
              "HBox(children=(FloatProgress(value=1.0, bar_style='info', max=1.0), HTML(value='')))"
            ]
          },
          "metadata": {
            "tags": []
          }
        },
        {
          "output_type": "stream",
          "text": [
            "Extracting data/MNIST/raw/t10k-images-idx3-ubyte.gz to data/MNIST/raw\n",
            "Downloading http://yann.lecun.com/exdb/mnist/t10k-labels-idx1-ubyte.gz to data/MNIST/raw/t10k-labels-idx1-ubyte.gz\n",
            "\n",
            "\n"
          ],
          "name": "stdout"
        },
        {
          "output_type": "display_data",
          "data": {
            "application/vnd.jupyter.widget-view+json": {
              "model_id": "42e7e29939584e13a3ae59389516e3c8",
              "version_minor": 0,
              "version_major": 2
            },
            "text/plain": [
              "HBox(children=(FloatProgress(value=1.0, bar_style='info', max=1.0), HTML(value='')))"
            ]
          },
          "metadata": {
            "tags": []
          }
        },
        {
          "output_type": "stream",
          "text": [
            "Extracting data/MNIST/raw/t10k-labels-idx1-ubyte.gz to data/MNIST/raw\n",
            "Processing...\n",
            "Done!\n"
          ],
          "name": "stdout"
        },
        {
          "output_type": "stream",
          "text": [
            "/usr/local/lib/python3.6/dist-packages/torchvision/datasets/mnist.py:480: UserWarning: The given NumPy array is not writeable, and PyTorch does not support non-writeable tensors. This means you can write to the underlying (supposedly non-writeable) NumPy array using the tensor. You may want to copy the array to protect its data or make it writeable before converting it to a tensor. This type of warning will be suppressed for the rest of this program. (Triggered internally at  /pytorch/torch/csrc/utils/tensor_numpy.cpp:141.)\n",
            "  return torch.from_numpy(parsed.astype(m[2], copy=False)).view(*s)\n"
          ],
          "name": "stderr"
        }
      ]
    },
    {
      "cell_type": "code",
      "metadata": {
        "id": "noN0pBJWjjQK",
        "outputId": "8a3a3c61-9b05-431e-e02a-b63b76ef3249",
        "colab": {
          "base_uri": "https://localhost:8080/"
        }
      },
      "source": [
        "#Random affine transform analysis with respect to rotation, translation and scaling\n",
        "\n",
        "digicaps_out, inputs, recon = test(capsnet, transformed_test_loader)"
      ],
      "execution_count": null,
      "outputs": [
        {
          "output_type": "stream",
          "text": [
            "Test Loss of MNIST dataset: 0.2341\n",
            "\n",
            "Test accuracy of individual classes are as follows: \n",
            "\n",
            "Test Accuracy of class 0: 85% (834/980)\n",
            "Test Accuracy of class 1: 95% (1081/1135)\n",
            "Test Accuracy of class 2: 89% (924/1032)\n",
            "Test Accuracy of class 3: 86% (876/1010)\n",
            "Test Accuracy of class 4: 83% (818/982)\n",
            "Test Accuracy of class 5: 94% (843/892)\n",
            "Test Accuracy of class 6: 85% (822/958)\n",
            "Test Accuracy of class 7: 89% (924/1028)\n",
            "Test Accuracy of class 8: 81% (793/974)\n",
            "Test Accuracy of class 9: 83% (840/1009)\n",
            "\n",
            "Test Accuracy (Overall): 87% (8755/10000)\n"
          ],
          "name": "stdout"
        }
      ]
    },
    {
      "cell_type": "code",
      "metadata": {
        "id": "pxPqEyc_FXJl"
      },
      "source": [
        "#Don't use \n",
        "\n",
        "def train(capsule_net, criterion, optimizer, epochs):\n",
        "    losses = []\n",
        "    train_value = []\n",
        "    correct_class = list(0 for i in range(10))\n",
        "    total_class = list(0 for i in range(10))\n",
        "\n",
        "    for epoch in range(1, epochs+1):\n",
        "        train_loss = 0.0\n",
        "        capsnet.train() # set to train mode\n",
        "        # get batches of training image data and targets\n",
        "        for i, (inputs, target) in enumerate(train_loader):\n",
        "            # reshape and get target class\n",
        "            target = torch.eye(10).index_select(dim=0, index=target)\n",
        "            inputs, target = inputs.cuda(), target.cuda()\n",
        "            # zero out gradients\n",
        "            optimizer.zero_grad()\n",
        "            # get model outputs\n",
        "            digicaps_out, recon, y = capsnet(inputs)\n",
        "            # calculate loss\n",
        "            loss = criterion(inputs, digicaps_out, target, recon)\n",
        "            # perform backpropagation and optimization\n",
        "            loss.backward()\n",
        "            optimizer.step()\n",
        "\n",
        "            train_loss += loss.item() # accumulated training loss\n",
        "            _, pred = torch.max(y.data.cpu(), 1)\n",
        "            _, target_shape = torch.max(target.data.cpu(), 1)\n",
        "            # compare predictions to true label\n",
        "            correct = np.squeeze(pred.eq(target_shape.data.view_as(pred)))\n",
        "\n",
        "            # print and record training stats\n",
        "            if i != 0 and i % 300 == 0:\n",
        "                avg_train_loss = train_loss/300\n",
        "                losses.append(avg_train_loss)\n",
        "                print('Epoch: {} \\tTraining Loss: {:.8f}'.format(epoch, avg_train_loss))\n",
        "                train_loss = 0 # reset accumulated training loss\n",
        "        \n",
        "    return losses\n"
      ],
      "execution_count": null,
      "outputs": []
    }
  ]
}