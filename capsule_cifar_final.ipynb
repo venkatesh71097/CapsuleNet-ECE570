{
  "nbformat": 4,
  "nbformat_minor": 0,
  "metadata": {
    "colab": {
      "name": "capsule_cifar_final.ipynb",
      "provenance": [],
      "collapsed_sections": []
    },
    "kernelspec": {
      "name": "python3",
      "display_name": "Python 3"
    },
    "accelerator": "GPU",
    "widgets": {
      "application/vnd.jupyter.widget-state+json": {
        "6a3e914c40e84a72928f6f6787415b66": {
          "model_module": "@jupyter-widgets/controls",
          "model_name": "HBoxModel",
          "state": {
            "_view_name": "HBoxView",
            "_dom_classes": [],
            "_model_name": "HBoxModel",
            "_view_module": "@jupyter-widgets/controls",
            "_model_module_version": "1.5.0",
            "_view_count": null,
            "_view_module_version": "1.5.0",
            "box_style": "",
            "layout": "IPY_MODEL_a3f6f4251861459b8a5dfbdf6dcfd034",
            "_model_module": "@jupyter-widgets/controls",
            "children": [
              "IPY_MODEL_37215785fc0c4172b15a257fd3c6ac02",
              "IPY_MODEL_c0b183d2d2ce42bfbb9ad35032ccc215"
            ]
          }
        },
        "a3f6f4251861459b8a5dfbdf6dcfd034": {
          "model_module": "@jupyter-widgets/base",
          "model_name": "LayoutModel",
          "state": {
            "_view_name": "LayoutView",
            "grid_template_rows": null,
            "right": null,
            "justify_content": null,
            "_view_module": "@jupyter-widgets/base",
            "overflow": null,
            "_model_module_version": "1.2.0",
            "_view_count": null,
            "flex_flow": null,
            "width": null,
            "min_width": null,
            "border": null,
            "align_items": null,
            "bottom": null,
            "_model_module": "@jupyter-widgets/base",
            "top": null,
            "grid_column": null,
            "overflow_y": null,
            "overflow_x": null,
            "grid_auto_flow": null,
            "grid_area": null,
            "grid_template_columns": null,
            "flex": null,
            "_model_name": "LayoutModel",
            "justify_items": null,
            "grid_row": null,
            "max_height": null,
            "align_content": null,
            "visibility": null,
            "align_self": null,
            "height": null,
            "min_height": null,
            "padding": null,
            "grid_auto_rows": null,
            "grid_gap": null,
            "max_width": null,
            "order": null,
            "_view_module_version": "1.2.0",
            "grid_template_areas": null,
            "object_position": null,
            "object_fit": null,
            "grid_auto_columns": null,
            "margin": null,
            "display": null,
            "left": null
          }
        },
        "37215785fc0c4172b15a257fd3c6ac02": {
          "model_module": "@jupyter-widgets/controls",
          "model_name": "FloatProgressModel",
          "state": {
            "_view_name": "ProgressView",
            "style": "IPY_MODEL_b0fca3d044ac4445be67cc9d63f4d52b",
            "_dom_classes": [],
            "description": "",
            "_model_name": "FloatProgressModel",
            "bar_style": "info",
            "max": 1,
            "_view_module": "@jupyter-widgets/controls",
            "_model_module_version": "1.5.0",
            "value": 1,
            "_view_count": null,
            "_view_module_version": "1.5.0",
            "orientation": "horizontal",
            "min": 0,
            "description_tooltip": null,
            "_model_module": "@jupyter-widgets/controls",
            "layout": "IPY_MODEL_24e0afdfa2354a1ebb12dfcbef1aab40"
          }
        },
        "c0b183d2d2ce42bfbb9ad35032ccc215": {
          "model_module": "@jupyter-widgets/controls",
          "model_name": "HTMLModel",
          "state": {
            "_view_name": "HTMLView",
            "style": "IPY_MODEL_f582f52a7fd74dbf85e27fb1ae9e37bd",
            "_dom_classes": [],
            "description": "",
            "_model_name": "HTMLModel",
            "placeholder": "​",
            "_view_module": "@jupyter-widgets/controls",
            "_model_module_version": "1.5.0",
            "value": " 170500096/? [00:30&lt;00:00, 16797402.99it/s]",
            "_view_count": null,
            "_view_module_version": "1.5.0",
            "description_tooltip": null,
            "_model_module": "@jupyter-widgets/controls",
            "layout": "IPY_MODEL_ced5af32ae0f4affa019661de0162ed8"
          }
        },
        "b0fca3d044ac4445be67cc9d63f4d52b": {
          "model_module": "@jupyter-widgets/controls",
          "model_name": "ProgressStyleModel",
          "state": {
            "_view_name": "StyleView",
            "_model_name": "ProgressStyleModel",
            "description_width": "initial",
            "_view_module": "@jupyter-widgets/base",
            "_model_module_version": "1.5.0",
            "_view_count": null,
            "_view_module_version": "1.2.0",
            "bar_color": null,
            "_model_module": "@jupyter-widgets/controls"
          }
        },
        "24e0afdfa2354a1ebb12dfcbef1aab40": {
          "model_module": "@jupyter-widgets/base",
          "model_name": "LayoutModel",
          "state": {
            "_view_name": "LayoutView",
            "grid_template_rows": null,
            "right": null,
            "justify_content": null,
            "_view_module": "@jupyter-widgets/base",
            "overflow": null,
            "_model_module_version": "1.2.0",
            "_view_count": null,
            "flex_flow": null,
            "width": null,
            "min_width": null,
            "border": null,
            "align_items": null,
            "bottom": null,
            "_model_module": "@jupyter-widgets/base",
            "top": null,
            "grid_column": null,
            "overflow_y": null,
            "overflow_x": null,
            "grid_auto_flow": null,
            "grid_area": null,
            "grid_template_columns": null,
            "flex": null,
            "_model_name": "LayoutModel",
            "justify_items": null,
            "grid_row": null,
            "max_height": null,
            "align_content": null,
            "visibility": null,
            "align_self": null,
            "height": null,
            "min_height": null,
            "padding": null,
            "grid_auto_rows": null,
            "grid_gap": null,
            "max_width": null,
            "order": null,
            "_view_module_version": "1.2.0",
            "grid_template_areas": null,
            "object_position": null,
            "object_fit": null,
            "grid_auto_columns": null,
            "margin": null,
            "display": null,
            "left": null
          }
        },
        "f582f52a7fd74dbf85e27fb1ae9e37bd": {
          "model_module": "@jupyter-widgets/controls",
          "model_name": "DescriptionStyleModel",
          "state": {
            "_view_name": "StyleView",
            "_model_name": "DescriptionStyleModel",
            "description_width": "",
            "_view_module": "@jupyter-widgets/base",
            "_model_module_version": "1.5.0",
            "_view_count": null,
            "_view_module_version": "1.2.0",
            "_model_module": "@jupyter-widgets/controls"
          }
        },
        "ced5af32ae0f4affa019661de0162ed8": {
          "model_module": "@jupyter-widgets/base",
          "model_name": "LayoutModel",
          "state": {
            "_view_name": "LayoutView",
            "grid_template_rows": null,
            "right": null,
            "justify_content": null,
            "_view_module": "@jupyter-widgets/base",
            "overflow": null,
            "_model_module_version": "1.2.0",
            "_view_count": null,
            "flex_flow": null,
            "width": null,
            "min_width": null,
            "border": null,
            "align_items": null,
            "bottom": null,
            "_model_module": "@jupyter-widgets/base",
            "top": null,
            "grid_column": null,
            "overflow_y": null,
            "overflow_x": null,
            "grid_auto_flow": null,
            "grid_area": null,
            "grid_template_columns": null,
            "flex": null,
            "_model_name": "LayoutModel",
            "justify_items": null,
            "grid_row": null,
            "max_height": null,
            "align_content": null,
            "visibility": null,
            "align_self": null,
            "height": null,
            "min_height": null,
            "padding": null,
            "grid_auto_rows": null,
            "grid_gap": null,
            "max_width": null,
            "order": null,
            "_view_module_version": "1.2.0",
            "grid_template_areas": null,
            "object_position": null,
            "object_fit": null,
            "grid_auto_columns": null,
            "margin": null,
            "display": null,
            "left": null
          }
        },
        "f9bde26c1bca44f39c2aeb06e7aaa8af": {
          "model_module": "@jupyter-widgets/controls",
          "model_name": "HBoxModel",
          "state": {
            "_view_name": "HBoxView",
            "_dom_classes": [],
            "_model_name": "HBoxModel",
            "_view_module": "@jupyter-widgets/controls",
            "_model_module_version": "1.5.0",
            "_view_count": null,
            "_view_module_version": "1.5.0",
            "box_style": "",
            "layout": "IPY_MODEL_6bc5b22f73fa44f4ac5c0e9d3e998b68",
            "_model_module": "@jupyter-widgets/controls",
            "children": [
              "IPY_MODEL_50633b8d009c4d80b21047d303b4d069",
              "IPY_MODEL_8308d0f6cd0e4783844675229238e73d"
            ]
          }
        },
        "6bc5b22f73fa44f4ac5c0e9d3e998b68": {
          "model_module": "@jupyter-widgets/base",
          "model_name": "LayoutModel",
          "state": {
            "_view_name": "LayoutView",
            "grid_template_rows": null,
            "right": null,
            "justify_content": null,
            "_view_module": "@jupyter-widgets/base",
            "overflow": null,
            "_model_module_version": "1.2.0",
            "_view_count": null,
            "flex_flow": null,
            "width": null,
            "min_width": null,
            "border": null,
            "align_items": null,
            "bottom": null,
            "_model_module": "@jupyter-widgets/base",
            "top": null,
            "grid_column": null,
            "overflow_y": null,
            "overflow_x": null,
            "grid_auto_flow": null,
            "grid_area": null,
            "grid_template_columns": null,
            "flex": null,
            "_model_name": "LayoutModel",
            "justify_items": null,
            "grid_row": null,
            "max_height": null,
            "align_content": null,
            "visibility": null,
            "align_self": null,
            "height": null,
            "min_height": null,
            "padding": null,
            "grid_auto_rows": null,
            "grid_gap": null,
            "max_width": null,
            "order": null,
            "_view_module_version": "1.2.0",
            "grid_template_areas": null,
            "object_position": null,
            "object_fit": null,
            "grid_auto_columns": null,
            "margin": null,
            "display": null,
            "left": null
          }
        },
        "50633b8d009c4d80b21047d303b4d069": {
          "model_module": "@jupyter-widgets/controls",
          "model_name": "FloatProgressModel",
          "state": {
            "_view_name": "ProgressView",
            "style": "IPY_MODEL_7995845dcb1242d1ac5a0490ee1a5e44",
            "_dom_classes": [],
            "description": "",
            "_model_name": "FloatProgressModel",
            "bar_style": "info",
            "max": 1,
            "_view_module": "@jupyter-widgets/controls",
            "_model_module_version": "1.5.0",
            "value": 1,
            "_view_count": null,
            "_view_module_version": "1.5.0",
            "orientation": "horizontal",
            "min": 0,
            "description_tooltip": null,
            "_model_module": "@jupyter-widgets/controls",
            "layout": "IPY_MODEL_0f7c5e1c1811488dad4c04dbae8c3d08"
          }
        },
        "8308d0f6cd0e4783844675229238e73d": {
          "model_module": "@jupyter-widgets/controls",
          "model_name": "HTMLModel",
          "state": {
            "_view_name": "HTMLView",
            "style": "IPY_MODEL_7d5f4f4e38d2475586e9ac4d51c2466d",
            "_dom_classes": [],
            "description": "",
            "_model_name": "HTMLModel",
            "placeholder": "​",
            "_view_module": "@jupyter-widgets/controls",
            "_model_module_version": "1.5.0",
            "value": " 170500096/? [00:28&lt;00:00, 16854763.43it/s]",
            "_view_count": null,
            "_view_module_version": "1.5.0",
            "description_tooltip": null,
            "_model_module": "@jupyter-widgets/controls",
            "layout": "IPY_MODEL_35748643b0a94456860459eac6c814b9"
          }
        },
        "7995845dcb1242d1ac5a0490ee1a5e44": {
          "model_module": "@jupyter-widgets/controls",
          "model_name": "ProgressStyleModel",
          "state": {
            "_view_name": "StyleView",
            "_model_name": "ProgressStyleModel",
            "description_width": "initial",
            "_view_module": "@jupyter-widgets/base",
            "_model_module_version": "1.5.0",
            "_view_count": null,
            "_view_module_version": "1.2.0",
            "bar_color": null,
            "_model_module": "@jupyter-widgets/controls"
          }
        },
        "0f7c5e1c1811488dad4c04dbae8c3d08": {
          "model_module": "@jupyter-widgets/base",
          "model_name": "LayoutModel",
          "state": {
            "_view_name": "LayoutView",
            "grid_template_rows": null,
            "right": null,
            "justify_content": null,
            "_view_module": "@jupyter-widgets/base",
            "overflow": null,
            "_model_module_version": "1.2.0",
            "_view_count": null,
            "flex_flow": null,
            "width": null,
            "min_width": null,
            "border": null,
            "align_items": null,
            "bottom": null,
            "_model_module": "@jupyter-widgets/base",
            "top": null,
            "grid_column": null,
            "overflow_y": null,
            "overflow_x": null,
            "grid_auto_flow": null,
            "grid_area": null,
            "grid_template_columns": null,
            "flex": null,
            "_model_name": "LayoutModel",
            "justify_items": null,
            "grid_row": null,
            "max_height": null,
            "align_content": null,
            "visibility": null,
            "align_self": null,
            "height": null,
            "min_height": null,
            "padding": null,
            "grid_auto_rows": null,
            "grid_gap": null,
            "max_width": null,
            "order": null,
            "_view_module_version": "1.2.0",
            "grid_template_areas": null,
            "object_position": null,
            "object_fit": null,
            "grid_auto_columns": null,
            "margin": null,
            "display": null,
            "left": null
          }
        },
        "7d5f4f4e38d2475586e9ac4d51c2466d": {
          "model_module": "@jupyter-widgets/controls",
          "model_name": "DescriptionStyleModel",
          "state": {
            "_view_name": "StyleView",
            "_model_name": "DescriptionStyleModel",
            "description_width": "",
            "_view_module": "@jupyter-widgets/base",
            "_model_module_version": "1.5.0",
            "_view_count": null,
            "_view_module_version": "1.2.0",
            "_model_module": "@jupyter-widgets/controls"
          }
        },
        "35748643b0a94456860459eac6c814b9": {
          "model_module": "@jupyter-widgets/base",
          "model_name": "LayoutModel",
          "state": {
            "_view_name": "LayoutView",
            "grid_template_rows": null,
            "right": null,
            "justify_content": null,
            "_view_module": "@jupyter-widgets/base",
            "overflow": null,
            "_model_module_version": "1.2.0",
            "_view_count": null,
            "flex_flow": null,
            "width": null,
            "min_width": null,
            "border": null,
            "align_items": null,
            "bottom": null,
            "_model_module": "@jupyter-widgets/base",
            "top": null,
            "grid_column": null,
            "overflow_y": null,
            "overflow_x": null,
            "grid_auto_flow": null,
            "grid_area": null,
            "grid_template_columns": null,
            "flex": null,
            "_model_name": "LayoutModel",
            "justify_items": null,
            "grid_row": null,
            "max_height": null,
            "align_content": null,
            "visibility": null,
            "align_self": null,
            "height": null,
            "min_height": null,
            "padding": null,
            "grid_auto_rows": null,
            "grid_gap": null,
            "max_width": null,
            "order": null,
            "_view_module_version": "1.2.0",
            "grid_template_areas": null,
            "object_position": null,
            "object_fit": null,
            "grid_auto_columns": null,
            "margin": null,
            "display": null,
            "left": null
          }
        }
      }
    }
  },
  "cells": [
    {
      "cell_type": "code",
      "metadata": {
        "id": "Z4pk6DZWDRve",
        "outputId": "b4af600f-4d35-48e2-9a3b-e9afc7176973",
        "colab": {
          "base_uri": "https://localhost:8080/",
          "height": 119,
          "referenced_widgets": [
            "6a3e914c40e84a72928f6f6787415b66",
            "a3f6f4251861459b8a5dfbdf6dcfd034",
            "37215785fc0c4172b15a257fd3c6ac02",
            "c0b183d2d2ce42bfbb9ad35032ccc215",
            "b0fca3d044ac4445be67cc9d63f4d52b",
            "24e0afdfa2354a1ebb12dfcbef1aab40",
            "f582f52a7fd74dbf85e27fb1ae9e37bd",
            "ced5af32ae0f4affa019661de0162ed8"
          ]
        }
      },
      "source": [
        "#Data retrieval process and defining libs \n",
        "\n",
        "import numpy as np \n",
        "import torchvision \n",
        "import torch\n",
        "import os\n",
        "import random \n",
        "import matplotlib.pyplot as plt \n",
        "import torch.nn as nn\n",
        "import torch.nn.functional as F\n",
        "import torch.optim as optim\n",
        "from torch.autograd import Variable\n",
        "\n",
        "seed = 0\n",
        "random.seed(seed)\n",
        "torch.manual_seed(seed)\n",
        "torch.cuda.manual_seed(seed)\n",
        "np.random.seed(seed)\n",
        "torch.backends.cudnn.deterministic=True\n",
        "torch.backends.cudnn.benchmarks=False\n",
        "os.environ['PYTHONHASHSEED'] = str(seed)\n",
        "device = torch.device(\"cuda:0\" if torch.cuda.is_available() else \"cpu\")\n",
        "import torchvision.transforms as transforms\n",
        "TRAIN_ON_GPU = torch.cuda.is_available()\n",
        "losses = []\n",
        "train_acc_val = []\n",
        "train_loss_val = []\n",
        "iteration = []  \n",
        "\n",
        "if(TRAIN_ON_GPU):\n",
        "    print('Training on GPU!')\n",
        "\n",
        "num_workers = 0\n",
        "batch_size = 50\n",
        "\n",
        "transform = transforms.ToTensor()\n",
        "\n",
        "train_data = torchvision.datasets.CIFAR10(root = '/data', train = True, download = True, transform = transform)\n",
        "test_data = torchvision.datasets.CIFAR10(root = '/data', train = False, download = True, transform = transform)\n",
        "\n",
        "train_loader = torchvision.torch.utils.data.DataLoader(train_data, batch_size = batch_size, num_workers = num_workers)\n",
        "test_loader  = torchvision.torch.utils.data.DataLoader(test_data, batch_size = batch_size, num_workers = num_workers)\n",
        "\n",
        "def softmax(input_tensor, dim=1):\n",
        "    # transpose input\n",
        "    transposed_input = input_tensor.transpose(dim, len(input_tensor.size()) - 1)\n",
        "    # calculate softmax\n",
        "    softmaxed_output = F.softmax(transposed_input.contiguous().view(-1, transposed_input.size(-1)), dim=-1)\n",
        "    # un-transpose result\n",
        "    return softmaxed_output.view(*transposed_input.size()).transpose(dim, len(input_tensor.size()) - 1)\n",
        "\n",
        "#Squash function \n",
        "def squash(u):\n",
        "  norm = (u ** 2).sum(-1, keepdim=True)\n",
        "  denom = ((1. + norm) * torch.sqrt(norm))\n",
        "  if torch.isinf(denom).sum().item()>0:\n",
        "    squash_output = u / torch.sqrt(norm)\n",
        "  else:\n",
        "    squash_output = norm * u / ((1. + norm) * torch.sqrt(norm))\n",
        "  return squash_output"
      ],
      "execution_count": null,
      "outputs": [
        {
          "output_type": "stream",
          "text": [
            "Training on GPU!\n",
            "Downloading https://www.cs.toronto.edu/~kriz/cifar-10-python.tar.gz to /data/cifar-10-python.tar.gz\n"
          ],
          "name": "stdout"
        },
        {
          "output_type": "display_data",
          "data": {
            "application/vnd.jupyter.widget-view+json": {
              "model_id": "6a3e914c40e84a72928f6f6787415b66",
              "version_minor": 0,
              "version_major": 2
            },
            "text/plain": [
              "HBox(children=(FloatProgress(value=1.0, bar_style='info', max=1.0), HTML(value='')))"
            ]
          },
          "metadata": {
            "tags": []
          }
        },
        {
          "output_type": "stream",
          "text": [
            "Extracting /data/cifar-10-python.tar.gz to /data\n",
            "Files already downloaded and verified\n"
          ],
          "name": "stdout"
        }
      ]
    },
    {
      "cell_type": "markdown",
      "metadata": {
        "id": "hysgYXVCjPdv"
      },
      "source": [
        "\n",
        "\n",
        "\n",
        "**Encoder network**"
      ]
    },
    {
      "cell_type": "code",
      "metadata": {
        "id": "YvUWdX9ZgIs7"
      },
      "source": [
        "#The encoder layer before Primary Capsule \n",
        "class ConvLayer(nn.Module):\n",
        "  def __init__(self, in_channels = 3, out_channels = 256):\n",
        "    super(ConvLayer, self).__init__()\n",
        "    self.conv = nn.Conv2d(in_channels = in_channels, out_channels = out_channels, kernel_size = 9, stride = 1, padding = 0)\n",
        "    \n",
        "  def forward(self, x):\n",
        "    out = F.relu(self.conv(x))\n",
        "    return out\n"
      ],
      "execution_count": null,
      "outputs": []
    },
    {
      "cell_type": "markdown",
      "metadata": {
        "id": "bTPNU9rZk7t-"
      },
      "source": [
        "**Primary Capsules**"
      ]
    },
    {
      "cell_type": "code",
      "metadata": {
        "id": "WmJ1mPhfk7In"
      },
      "source": [
        "class PrimaryCapsule(nn.Module):\n",
        "  def __init__(self, num_capsules = 8, in_channels = 256, out_channels = 32):\n",
        "    super(PrimaryCapsule, self).__init__()\n",
        "    self.capsules = nn.ModuleList([nn.Conv2d(in_channels = in_channels, out_channels = out_channels, kernel_size = 9, stride = 2, padding = 0) for _ in range(0, num_capsules)])\n",
        "    \n",
        "  def forward(self, x):\n",
        "    u = [capsule(x).view(batch_size, 32 * 8 * 8, 1) for capsule in self.capsules]\n",
        "    u = torch.cat(u, dim=-1)\n",
        "    # squashing the stack of vectors\n",
        "    out_squash = squash(u)\n",
        "    return out_squash\n"
      ],
      "execution_count": null,
      "outputs": []
    },
    {
      "cell_type": "markdown",
      "metadata": {
        "id": "N0YiwmVFwjFB"
      },
      "source": [
        "**Digit Capsules**"
      ]
    },
    {
      "cell_type": "code",
      "metadata": {
        "id": "i4OC_G8SwrC5"
      },
      "source": [
        "class DigitCapsule(nn.Module):\n",
        "  def __init__(self, num_capsules = 10, num_routes = 32*8*8, in_channels = 8, out_channels = 16):\n",
        "    super(DigitCapsule, self).__init__()\n",
        "    #Weight i-j (connecting the primary capsule and the digit capsules)\n",
        "    self.W = nn.Parameter(torch.randn(num_capsules, num_routes, in_channels, out_channels))\n",
        "\n",
        "  def forward(self, u):\n",
        "    u = u[None, :, : , None, :]\n",
        "    W = self.W[:, None, :, :, :]\n",
        "    u_hat = torch.matmul(u, W)\n",
        "    b_ij = torch.zeros(*u_hat.size())\n",
        "    if TRAIN_ON_GPU:\n",
        "      b_ij = b_ij.cuda()\n",
        "      u_hat = u_hat.cuda()\n",
        "    '''b_ij.to(device)\n",
        "    u_hat.to(device)'''\n",
        "    iterations = 3\n",
        "    for i in range(0, iterations):\n",
        "      c_ij = softmax(b_ij, dim=2)\n",
        "      if TRAIN_ON_GPU:\n",
        "          c_ij = c_ij.cuda()\n",
        "      # calculating total capsule inputs\n",
        "      s_j = (c_ij * u_hat).sum(dim=2, keepdim=True)\n",
        "      # squashing to get a normalized vector output, v_j\n",
        "      v_j = squash(s_j)\n",
        "      # if not on the last iteration, calculate agreement and new b_ij\n",
        "      if i < iterations - 1:\n",
        "        # agreement\n",
        "        a_ij = (u_hat * v_j).sum(dim=-1, keepdim=True)\n",
        "        # new b_ij\n",
        "        b_ij = b_ij + a_ij\n",
        "\n",
        "    return v_j "
      ],
      "execution_count": null,
      "outputs": []
    },
    {
      "cell_type": "markdown",
      "metadata": {
        "id": "jDVIc820UBhp"
      },
      "source": [
        "**Decoder for DigitCapsules**"
      ]
    },
    {
      "cell_type": "code",
      "metadata": {
        "id": "XvTNM4xkYJc7"
      },
      "source": [
        "class Decoder(nn.Module):\n",
        "    def __init__(self, in_vector=16, num_capsules=10, hidden_dim=512):\n",
        "        super(Decoder, self).__init__()\n",
        "        # calculate input_dim\n",
        "        input_dim = in_vector * num_capsules\n",
        "        \n",
        "        #Dense layers for decoder network\n",
        "        self.linear_layers = nn.Sequential(\n",
        "            nn.Linear(input_dim, hidden_dim), # first hidden layer\n",
        "            nn.ReLU(inplace=True),\n",
        "            nn.Linear(hidden_dim, hidden_dim*2), # second, twice as deep\n",
        "            nn.ReLU(inplace=True),\n",
        "            nn.Linear(hidden_dim*2, 3*32*32), # can be reshaped into 28*28 image\n",
        "            nn.Sigmoid() # sigmoid activation to get output pixel values in a range from 0-1\n",
        "            )\n",
        "        \n",
        "    def forward(self, x):\n",
        "        classes = (x ** 2).sum(dim=-1) ** 0.5\n",
        "        #classes = (x ** 2).sum(dim=-1) ** 0.5\n",
        "        classes = F.softmax(classes, dim=-1)\n",
        "        # Identify the capsule with maximum vector length - indicating the probability of each class\n",
        "        _, max_length_indices = classes.max(dim=1)\n",
        "        \n",
        "        # We create a sparse matrix for 10 classes\n",
        "        sparse_matrix = torch.eye(10) \n",
        "        if TRAIN_ON_GPU:\n",
        "            sparse_matrix = sparse_matrix.cuda()\n",
        "        # compute the classes score from the \"correct\" capsule\n",
        "        y = sparse_matrix.index_select(dim=0, index=max_length_indices.data)\n",
        "        # create reconstructed pixels\n",
        "        x = x * y[:, :, None]\n",
        "        # flatten image into a vector shape (batch_size, vector_dim)\n",
        "        flattened_vector = x.contiguous().view(x.size(0), -1)\n",
        "        # create reconstructed image vectors\n",
        "        reconstructions = self.linear_layers(flattened_vector)\n",
        "        \n",
        "        # return reconstructions and the class scores, y\n",
        "        return reconstructions, y\n"
      ],
      "execution_count": null,
      "outputs": []
    },
    {
      "cell_type": "markdown",
      "metadata": {
        "id": "6_O0Ly4g-4Sq"
      },
      "source": [
        "**Connecting all the above layers with each other**"
      ]
    },
    {
      "cell_type": "code",
      "metadata": {
        "id": "PZnV7Fo0-ghL"
      },
      "source": [
        "class CapsNet(nn.Module):\n",
        "  def __init__(self):\n",
        "    super(CapsNet, self).__init__()\n",
        "    self.ConvLayer = ConvLayer()\n",
        "    self.PrimaryCapsule = PrimaryCapsule()\n",
        "    self.DigitCapsule = DigitCapsule()\n",
        "    self.Decoder = Decoder()\n",
        "  def forward(self, inputs):\n",
        "    pricaps_out = self.PrimaryCapsule(self.ConvLayer(inputs))\n",
        "    digicaps_out = self.DigitCapsule(pricaps_out).squeeze().transpose(0,1)\n",
        "    recon, y = self.Decoder(digicaps_out)\n",
        "    return digicaps_out, recon, y"
      ],
      "execution_count": null,
      "outputs": []
    },
    {
      "cell_type": "code",
      "metadata": {
        "id": "dGDA5AH5ClBM"
      },
      "source": [
        "capsnet = CapsNet()\n",
        "if TRAIN_ON_GPU:\n",
        "    capsnet.cuda()"
      ],
      "execution_count": null,
      "outputs": []
    },
    {
      "cell_type": "code",
      "metadata": {
        "id": "OrTPJx7OCtSc"
      },
      "source": [
        "class CustomLoss(nn.Module):\n",
        "    \n",
        "    def __init__(self):\n",
        "        super(CustomLoss, self).__init__()\n",
        "        self.reconstruction_loss = nn.MSELoss(reduction='sum') # cumulative loss\n",
        "\n",
        "    def forward(self, inputs, digicaps_out, labels, reconstructions):\n",
        "        batch_size = digicaps_out.size(0)\n",
        "        ##  calculate the margin loss   ##\n",
        "        # get magnitude of digit capsule vectors, v_c\n",
        "        digicaps_vector = torch.sqrt((digicaps_out**2).sum(dim=2, keepdim=True))\n",
        "\n",
        "        # calculate \"correct\" and incorrect loss\n",
        "        correct = F.relu(0.9 - digicaps_vector).view(batch_size, -1)\n",
        "        incorrect = F.relu(digicaps_vector - 0.1).view(batch_size, -1)\n",
        "        \n",
        "        # sum the losses, with a lambda = 0.5\n",
        "        margin_loss = labels * correct + 0.5 * (1. - labels) * incorrect\n",
        "        margin_loss = margin_loss.sum()\n",
        "\n",
        "        ##  calculate the reconstruction loss   ##\n",
        "        inputs = inputs.view(reconstructions.size()[0], -1)\n",
        "        reconstruction_loss = self.reconstruction_loss(reconstructions, inputs)\n",
        "\n",
        "        # return a sum of margin and reconstruction loss, averaged over one batch size\n",
        "        return (margin_loss + 0.0005 * reconstruction_loss) / inputs.size(0)\n"
      ],
      "execution_count": null,
      "outputs": []
    },
    {
      "cell_type": "code",
      "metadata": {
        "id": "uXHUygq9Ez2O"
      },
      "source": [
        "criterion = CustomLoss()\n",
        "optimizer = optim.Adam(capsnet.parameters())"
      ],
      "execution_count": null,
      "outputs": []
    },
    {
      "cell_type": "code",
      "metadata": {
        "id": "pxPqEyc_FXJl"
      },
      "source": [
        "def train(capsule_net, criterion, optimizer, epochs):\n",
        "\n",
        "    for epoch in range(1, epochs+1):\n",
        "        correct_class = list(0 for i in range(10))\n",
        "        total_class = list(0 for i in range(10))\n",
        "        train_loss = 0.0\n",
        "        capsnet.train() # set to train mode\n",
        "        # get batches of training image data and targets\n",
        "        for i, (inputs, target) in enumerate(train_loader):\n",
        "            # reshape and get target class\n",
        "            target = torch.eye(10).index_select(dim=0, index=target)\n",
        "            inputs, target = inputs.cuda(), target.cuda()\n",
        "            # zero out gradients\n",
        "            optimizer.zero_grad()\n",
        "            # get model outputs\n",
        "            digicaps_out, recon, y = capsnet(inputs)\n",
        "            # calculate loss\n",
        "            loss = criterion(inputs, digicaps_out, target, recon)\n",
        "            # perform backpropagation and optimization\n",
        "            loss.backward()\n",
        "            optimizer.step()\n",
        "            _, pred = torch.max(y.data.cpu(), 1)\n",
        "            _, target_shape = torch.max(target.data.cpu(), 1)\n",
        "            # compare predictions to true label\n",
        "            correct = np.squeeze(pred.eq(target_shape.data.view_as(pred)))\n",
        "            train_loss += loss.item() # accumulated training loss\n",
        "            for k in range(batch_size):\n",
        "              label = target_shape.data[k]\n",
        "              correct_class[label] += correct[k].item()\n",
        "              total_class[label] += 1\n",
        "            # print and record training stats\n",
        "            if i != 0 and i % 300 == 0:\n",
        "                avg_train_loss = train_loss/300\n",
        "                losses.append(avg_train_loss)\n",
        "                print('Epoch: {} \\tTraining Loss: {:.8f}'.format(epoch, avg_train_loss))\n",
        "                train_loss = 0 # reset accumulated training loss\n",
        "        print(\"Training accuracy is:\", np.sum(correct_class) / float((batch_size*i)))\n",
        "        train_acc_val.append(np.sum(correct_class) / float((batch_size*i)))\n",
        "        train_loss_val.append(train_loss / float(i))\n",
        "        iteration.append(epoch)\n",
        "        \n",
        "    return losses\n"
      ],
      "execution_count": null,
      "outputs": []
    },
    {
      "cell_type": "code",
      "metadata": {
        "id": "RvfFWFNZFkpq",
        "outputId": "cbe45157-5ac7-41a3-d3f8-119a58c4e14c",
        "colab": {
          "base_uri": "https://localhost:8080/"
        }
      },
      "source": [
        "epochs = 5\n",
        "losses = train(capsnet, criterion, optimizer, epochs)\n"
      ],
      "execution_count": null,
      "outputs": [
        {
          "output_type": "stream",
          "text": [
            "Epoch: 1 \tTraining Loss: 0.85851266\n",
            "Epoch: 1 \tTraining Loss: 0.79724728\n",
            "Epoch: 1 \tTraining Loss: 0.76801525\n",
            "Training accuracy is: 0.41915915915915913\n",
            "Epoch: 2 \tTraining Loss: 0.72375475\n",
            "Epoch: 2 \tTraining Loss: 0.69553867\n",
            "Epoch: 2 \tTraining Loss: 0.68726290\n",
            "Training accuracy is: 0.503023023023023\n",
            "Epoch: 3 \tTraining Loss: 0.66096686\n",
            "Epoch: 3 \tTraining Loss: 0.64506045\n",
            "Epoch: 3 \tTraining Loss: 0.64268746\n",
            "Training accuracy is: 0.551031031031031\n",
            "Epoch: 4 \tTraining Loss: 0.62117615\n",
            "Epoch: 4 \tTraining Loss: 0.60828411\n",
            "Epoch: 4 \tTraining Loss: 0.60782860\n",
            "Training accuracy is: 0.5824024024024024\n",
            "Epoch: 5 \tTraining Loss: 0.58585040\n",
            "Epoch: 5 \tTraining Loss: 0.58087568\n",
            "Epoch: 5 \tTraining Loss: 0.57816216\n",
            "Training accuracy is: 0.6098298298298298\n"
          ],
          "name": "stdout"
        }
      ]
    },
    {
      "cell_type": "code",
      "metadata": {
        "id": "GH_HJEbQIN2J",
        "outputId": "43025746-b347-4c37-83b6-a3705677598d",
        "colab": {
          "base_uri": "https://localhost:8080/",
          "height": 295
        }
      },
      "source": [
        "plt.plot(iteration, train_loss_val)\n",
        "plt.title(\"Training Loss for CIFAR-10\")\n",
        "plt.xlabel(\"#Epochs\")\n",
        "plt.ylabel(\"Training Loss\")\n",
        "plt.show()"
      ],
      "execution_count": null,
      "outputs": [
        {
          "output_type": "display_data",
          "data": {
            "image/png": "[encoded data removed]",
            "text/plain": [
              "<Figure size 432x288 with 1 Axes>"
            ]
          },
          "metadata": {
            "tags": [],
            "needs_background": "light"
          }
        }
      ]
    },
    {
      "cell_type": "code",
      "metadata": {
        "id": "uzS4WCEu8syj",
        "outputId": "d77708ae-e7bd-48f9-d568-8a1cf20e3b40",
        "colab": {
          "base_uri": "https://localhost:8080/",
          "height": 295
        }
      },
      "source": [
        "plt.plot(iteration, train_acc_val)\n",
        "plt.title(\"Training accuracy for CIFAR-10\")\n",
        "plt.xlabel(\"#Epochs\")\n",
        "plt.ylabel(\"Training accuracy\")\n",
        "plt.show()\n"
      ],
      "execution_count": null,
      "outputs": [
        {
          "output_type": "display_data",
          "data": {
            "image/png": "[encoded data removed]",
            "text/plain": [
              "<Figure size 432x288 with 1 Axes>"
            ]
          },
          "metadata": {
            "tags": [],
            "needs_background": "light"
          }
        }
      ]
    },
    {
      "cell_type": "markdown",
      "metadata": {
        "id": "5VVq7wVKY_jf"
      },
      "source": [
        "**Testing the model**"
      ]
    },
    {
      "cell_type": "code",
      "metadata": {
        "id": "DF3HHwRIYqu-"
      },
      "source": [
        "from sklearn.metrics import confusion_matrix\n",
        "import seaborn as sn\n",
        "\n",
        "classes = ('plane', 'car', 'bird', 'cat',\n",
        "           'deer', 'dog', 'frog', 'horse', 'ship', 'truck')\n",
        "\n",
        "def test(capsule_net, test_loader):\n",
        "     \n",
        "    a = []\n",
        "    b = []\n",
        "    correct_class = list(0 for i in range(10))\n",
        "    total_class = list(0 for i in range(10))\n",
        "    \n",
        "    test_loss = 0 # loss tracking\n",
        "    capsule_net.eval() # eval mode\n",
        "\n",
        "    for n, (inputs, target) in enumerate(test_loader):\n",
        "        target = torch.eye(10).index_select(dim=0, index=target)\n",
        "        batch_size = inputs.size(0)\n",
        "        inputs, target = inputs.cuda(), target.cuda()\n",
        "        # forward pass: compute predicted outputs by passing inputs to the model\n",
        "        digicaps_out, recon, y = capsnet(inputs)\n",
        "        # calculate the loss\n",
        "        loss = criterion(inputs, digicaps_out, target, recon)\n",
        "        # update average test loss \n",
        "        test_loss += loss.item()\n",
        "        # convert output probabilities to predicted class\n",
        "        _, pred = torch.max(y.data.cpu(), 1)\n",
        "        _, target_shape = torch.max(target.data.cpu(), 1)\n",
        "\n",
        "        for i in pred:\n",
        "            a.append(i)\n",
        "        \n",
        "        for j in target_shape:\n",
        "            b.append(j)\n",
        "\n",
        "        # compare predictions to true label\n",
        "        correct = np.squeeze(pred.eq(target_shape.data.view_as(pred)))\n",
        "        # calculate test accuracy for each object class\n",
        "        for i in range(batch_size):\n",
        "            label = target_shape.data[i]\n",
        "            correct_class[label] += correct[i].item()\n",
        "            total_class[label] += 1\n",
        "\n",
        "    a = np.array(a)\n",
        "    b = np.array(b)\n",
        "    cm = confusion_matrix(a,b)\n",
        "\n",
        "    fig = plt.figure()\n",
        "    ax = plt.subplot()\n",
        "    sn.set(font_scale=1) # Adjust to fit\n",
        "    sn.heatmap(cm, annot=True, ax=ax, cmap=\"Blues\", fmt=\"g\");  \n",
        "    # Labels, title and ticks\n",
        "    label_font = {'size':'12'}  # Adjust to fit\n",
        "    ax.set_xlabel('Actual labels', fontdict=label_font);\n",
        "    ax.set_ylabel('Predicted labels', fontdict=label_font);\n",
        "    title_font = {'size':'12'}  # Adjust to fit\n",
        "    ax.set_title('Confusion Matrix', fontdict=title_font);\n",
        "    ax.tick_params(axis='both', which='major', labelsize=12)  # Adjust to fit\n",
        "    ax.xaxis.set_ticklabels(['plane', 'car', 'bird', 'cat', 'deer', 'dog', 'frog', 'horse', 'ship', 'truck']);\n",
        "    ax.yaxis.set_ticklabels(['plane', 'car', 'bird', 'cat', 'deer', 'dog', 'frog', 'horse', 'ship', 'truck']);\n",
        "    plt.show()\n",
        "    fig.savefig('cm_cifar10.jpg')\n",
        "\n",
        "\n",
        "    avg_test_loss = test_loss/len(test_loader)\n",
        "    print('Test Loss of CIFAR-10 dataset: {:.4f}\\n'.format(avg_test_loss))\n",
        "    print('Test accuracy of individual classes are as follows: \\n')\n",
        "    for i in range(10):\n",
        "        if total_class[i] > 0:\n",
        "            print('Test Accuracy of class %1s: %2d%% (%2d/%2d)' % (\n",
        "                str(classes[i]), 100 * correct_class[i] / total_class[i],\n",
        "                np.sum(correct_class[i]), np.sum(total_class[i])))\n",
        "        else:\n",
        "            print('Test Accuracy of %5s: N/A (no training examples)' % (classes[i]))\n",
        "\n",
        "    print('\\nTest Accuracy (Overall): %2d%% (%2d/%2d)' % (\n",
        "        100. * np.sum(correct_class) / np.sum(total_class),\n",
        "        np.sum(correct_class), np.sum(total_class)))\n",
        "    \n",
        "    # return last batch of capsule vectors, images, reconstructions\n",
        "    return digicaps_out, inputs, recon\n"
      ],
      "execution_count": null,
      "outputs": []
    },
    {
      "cell_type": "code",
      "metadata": {
        "id": "B2f-DQZDa9_2",
        "outputId": "4db683d6-7ac8-46e2-bf94-6ea056c86bff",
        "colab": {
          "base_uri": "https://localhost:8080/",
          "height": 579
        }
      },
      "source": [
        "digicaps_out, inputs, recon = test(capsnet, test_loader)"
      ],
      "execution_count": null,
      "outputs": [
        {
          "output_type": "display_data",
          "data": {
            "image/png": "[encoded data removed]",
            "text/plain": [
              "<Figure size 432x288 with 2 Axes>"
            ]
          },
          "metadata": {
            "tags": [],
            "needs_background": "light"
          }
        },
        {
          "output_type": "stream",
          "text": [
            "Test Loss of CIFAR-10 dataset: 0.6277\n",
            "\n",
            "Test accuracy of individual classes are as follows: \n",
            "\n",
            "Test Accuracy of class plane: 51% (519/1000)\n",
            "Test Accuracy of class car: 81% (819/1000)\n",
            "Test Accuracy of class bird: 43% (438/1000)\n",
            "Test Accuracy of class cat: 42% (426/1000)\n",
            "Test Accuracy of class deer: 53% (532/1000)\n",
            "Test Accuracy of class dog: 47% (473/1000)\n",
            "Test Accuracy of class frog: 76% (763/1000)\n",
            "Test Accuracy of class horse: 54% (546/1000)\n",
            "Test Accuracy of class ship: 71% (710/1000)\n",
            "Test Accuracy of class truck: 46% (465/1000)\n",
            "\n",
            "Test Accuracy (Overall): 56% (5691/10000)\n"
          ],
          "name": "stdout"
        }
      ]
    },
    {
      "cell_type": "code",
      "metadata": {
        "id": "SuNEoVfYbHDA"
      },
      "source": [
        "def imshow(img):\n",
        "    #img = img / 2 + 0.5     # unnormalize\n",
        "    npimg = img.data.cpu().numpy()\n",
        "    #npimg = img\n",
        "    plt.imshow(np.transpose(npimg, (1, 2, 0)))\n",
        "    plt.show()\n",
        "\n",
        "def display_images(inputs, recon):\n",
        "    # convert to numpy images\n",
        "    inputs = inputs.view(-1, 3, 32, 32)\n",
        "    #inputs = inputs.data.cpu().numpy()\n",
        "    recon = recon.view(-1, 3, 32, 32)\n",
        "    #recon = recon.data.cpu().numpy()\n",
        "    '''print(inputs.shape)\n",
        "    for i in range(len(recon)):\n",
        "      imshow(recon[i])'''\n",
        "    imshow((inputs[1]))\n",
        "    imshow((recon[1]))\n",
        "\n",
        "    # plot the first ten input images and then reconstructed images\n",
        "    #fig, axes = plt.subplots(nrows=5, ncols=10, sharex=True, sharey=True, figsize=(10,5))\n",
        "\n",
        "    # input images on top row, reconstructions on bottom\n",
        "    '''for images, row in zip([inputs, recon], axes):\n",
        "        for img, ax in zip(images, row):\n",
        "            print(img)'''\n",
        "            \n"
      ],
      "execution_count": null,
      "outputs": []
    },
    {
      "cell_type": "code",
      "metadata": {
        "id": "EPb7jYungZQM",
        "outputId": "74af590a-51a8-4ef7-fe4b-f37b5e7cb301",
        "colab": {
          "base_uri": "https://localhost:8080/",
          "height": 519
        }
      },
      "source": [
        "display_images(inputs, recon)"
      ],
      "execution_count": null,
      "outputs": [
        {
          "output_type": "display_data",
          "data": {
            "image/png": "[encoded data removed]",
            "text/plain": [
              "<Figure size 432x288 with 1 Axes>"
            ]
          },
          "metadata": {
            "tags": []
          }
        },
        {
          "output_type": "display_data",
          "data": {
            "image/png": "[encoded data removed]",
            "text/plain": [
              "<Figure size 432x288 with 1 Axes>"
            ]
          },
          "metadata": {
            "tags": []
          }
        }
      ]
    },
    {
      "cell_type": "markdown",
      "metadata": {
        "id": "VJ6seADThTe3"
      },
      "source": [
        "**Analysis of CapsuleNets on Affine Transforms**"
      ]
    },
    {
      "cell_type": "code",
      "metadata": {
        "id": "2Tk-I87ugboH",
        "outputId": "7dee33e0-b023-4396-ae72-0facb9797f0e",
        "colab": {
          "base_uri": "https://localhost:8080/",
          "height": 84,
          "referenced_widgets": [
            "f9bde26c1bca44f39c2aeb06e7aaa8af",
            "6bc5b22f73fa44f4ac5c0e9d3e998b68",
            "50633b8d009c4d80b21047d303b4d069",
            "8308d0f6cd0e4783844675229238e73d",
            "7995845dcb1242d1ac5a0490ee1a5e44",
            "0f7c5e1c1811488dad4c04dbae8c3d08",
            "7d5f4f4e38d2475586e9ac4d51c2466d",
            "35748643b0a94456860459eac6c814b9"
          ]
        }
      },
      "source": [
        "new_transform = transforms.Compose([transforms.RandomAffine(degrees=(-10, 10), translate=(0.1,0.1), scale = (0.7, 1.3), shear = 0), transforms.ToTensor()])\n",
        "\n",
        "# test dataset\n",
        "transformed_test_data = torchvision.datasets.CIFAR10(root='data', train=False,\n",
        "                                       download=True, transform=new_transform)\n",
        "\n",
        "# prepare data loader\n",
        "transformed_test_loader = torch.utils.data.DataLoader(transformed_test_data, batch_size=batch_size, num_workers=num_workers)\n"
      ],
      "execution_count": null,
      "outputs": [
        {
          "output_type": "stream",
          "text": [
            "Downloading https://www.cs.toronto.edu/~kriz/cifar-10-python.tar.gz to data/cifar-10-python.tar.gz\n"
          ],
          "name": "stdout"
        },
        {
          "output_type": "display_data",
          "data": {
            "application/vnd.jupyter.widget-view+json": {
              "model_id": "f9bde26c1bca44f39c2aeb06e7aaa8af",
              "version_minor": 0,
              "version_major": 2
            },
            "text/plain": [
              "HBox(children=(FloatProgress(value=1.0, bar_style='info', max=1.0), HTML(value='')))"
            ]
          },
          "metadata": {
            "tags": []
          }
        },
        {
          "output_type": "stream",
          "text": [
            "Extracting data/cifar-10-python.tar.gz to data\n"
          ],
          "name": "stdout"
        }
      ]
    },
    {
      "cell_type": "code",
      "metadata": {
        "id": "noN0pBJWjjQK",
        "outputId": "b1fe8663-c461-4f25-f142-056e66f30df0",
        "colab": {
          "base_uri": "https://localhost:8080/",
          "height": 581
        }
      },
      "source": [
        "#Random affine transform analysis with respect to rotation, translation and scaling\n",
        "\n",
        "digicaps_out, inputs, recon = test(capsnet, transformed_test_loader)"
      ],
      "execution_count": null,
      "outputs": [
        {
          "output_type": "display_data",
          "data": {
            "image/png": "[encoded data removed]",
            "text/plain": [
              "<Figure size 432x288 with 2 Axes>"
            ]
          },
          "metadata": {
            "tags": []
          }
        },
        {
          "output_type": "stream",
          "text": [
            "Test Loss of CIFAR-10 dataset: 0.7843\n",
            "\n",
            "Test accuracy of individual classes are as follows: \n",
            "\n",
            "Test Accuracy of class plane: 27% (275/1000)\n",
            "Test Accuracy of class car: 72% (727/1000)\n",
            "Test Accuracy of class bird: 25% (251/1000)\n",
            "Test Accuracy of class cat: 42% (420/1000)\n",
            "Test Accuracy of class deer: 37% (372/1000)\n",
            "Test Accuracy of class dog: 46% (465/1000)\n",
            "Test Accuracy of class frog: 66% (667/1000)\n",
            "Test Accuracy of class horse: 32% (327/1000)\n",
            "Test Accuracy of class ship: 52% (520/1000)\n",
            "Test Accuracy of class truck: 32% (326/1000)\n",
            "\n",
            "Test Accuracy (Overall): 43% (4350/10000)\n"
          ],
          "name": "stdout"
        }
      ]
    },
    {
      "cell_type": "code",
      "metadata": {
        "id": "dQlhuTi9Hcol"
      },
      "source": [
        ""
      ],
      "execution_count": null,
      "outputs": []
    }
  ]
}